{
 "cells": [
  {
   "cell_type": "markdown",
   "metadata": {},
   "source": [
    "# Introduccion a la estadistica"
   ]
  },
  {
   "cell_type": "markdown",
   "metadata": {},
   "source": [
    "## ¿Qué es la Estadística?\n",
    "\n",
    "La *[estadística](http://es.wikipedia.org/wiki/Estad%C3%ADstica)* suele ser definida como la ciencia de aprender de los *[datos](https://es.wikipedia.org/wiki/Dato)* o como la ciencia de obtener conclusiones en la presencia de incertidumbre. Se relaciona principalmente con la recolección, análisis e interpretación de *[datos](https://es.wikipedia.org/wiki/Dato)*, así como también con la efectiva comunicación y presentación de los resultados basados en esos *[datos](https://es.wikipedia.org/wiki/Dato)*. Como por *[datos](https://es.wikipedia.org/wiki/Dato)* entendemos a cualquier clase de información grabada, la *[estadística](http://es.wikipedia.org/wiki/Estad%C3%ADstica)* juego un rol importante en muchas disciplinas científicas.\n",
    "\n",
    "La *[estadística](http://es.wikipedia.org/wiki/Estad%C3%ADstica)* puede ser muy importante para una efectiva toma de decisiones. Existe una gran cantidad de valiosa información escondida entre los *[datos](https://es.wikipedia.org/wiki/Dato)*, pero esta información no suele ser fácilmente accesible, la *[estadística](http://es.wikipedia.org/wiki/Estad%C3%ADstica)* nos brinda los principios fundamentales que nos permiten extraer y entender esa información; tambien nos proporciona las herramientas necesarias para verificar la calidad de nuestros *[datos](https://es.wikipedia.org/wiki/Dato)* y nuestra información.\n",
    "\n",
    "La *[estadística](http://es.wikipedia.org/wiki/Estad%C3%ADstica)* suele ser dividida en dos grandes ramas:\n",
    "\n",
    "1. La *[estadística descriptiva](https://es.wikipedia.org/wiki/Estad%C3%ADstica_descriptiva)*: La cual se dedica a recolectar, ordenar, analizar y representar a un [conjunto de datos](https://es.wikipedia.org/wiki/Conjunto_de_datos), con el fin de describir apropiadamente las características de este. Calcula los parámetros estadísticos que describen el conjunto estudiado. Algunas de las herramientas que utiliza son gráficos, medidas de frecuencias, medidas de centralización, medidas de posición, medidas de dispersión, entre otras.\n",
    "\n",
    "2. La *[estadistica inferencial](https://es.wikipedia.org/wiki/Estad%C3%ADstica_inferencial)*: La cual estudia cómo sacar conclusiones generales para toda la [población](https://es.wikipedia.org/wiki/Poblaci%C3%B3n_estad%C3%ADstica) a partir del estudio de una <a href=\"https://es.wikipedia.org/wiki/Muestreo_(estad%C3%ADstica)\">muestra</a>, y el grado de fiabilidad o significación de los resultados obtenidos. Sus principales herramientas son el <a href=\"https://es.wikipedia.org/wiki/Muestreo_(estad%C3%ADstica)\">muestreo</a>, la estimación de parámetros y el contraste de hipótesis.\n",
    "En este curso estudiaremos la estadistica descriptiva. "
   ]
  },
  {
   "cell_type": "markdown",
   "metadata": {},
   "source": [
    "## Conceptos básicos de la estadística descriptiva\n",
    "\n",
    "* **Población**:La *[población](https://es.wikipedia.org/wiki/Poblaci%C3%B3n_estad%C3%ADstica)* representa la colección **completa** de elementos o resultados de la información con determinadas características.\n",
    "\n",
    "\n",
    "* **Muestra**:Una *[muestra](https://es.wikipedia.org/wiki/Muestra_estad%C3%ADstica)* constituye un **subconjunto** de una población,que contiene elementos o resultados **representativos** que  se desean observan.\n",
    "\n",
    "<img alt=\"Population\" title=\"Samples\" src=\"./images/PopulationSample.png\" width=\"400\">\n",
    "\n",
    "* **Una muestra aleatoria**: Es una muestra simple de tamaño es una muestra elegida por un método en el que cada colección den elementos de la población tiene la mismaprobabilidad de formar la muestra,de la misma manera que en una lotería\n",
    "\n",
    "\n",
    "\n",
    "En *[estadística descriptiva](https://es.wikipedia.org/wiki/Estad%C3%ADstica_descriptiva)* se utilizan distintas medidas para intentar describir las propiedades de nuestros datos, algunos de los conceptos básicos, son:\n",
    "\n",
    "* **Media aritmética**: La [media aritmética](https://es.wikipedia.org/wiki/Media_aritm%C3%A9tica) es el valor obtenido al sumar todos los *[datos](https://es.wikipedia.org/wiki/Dato)* y dividir el resultado entre el número total elementos. Se suele representar con la letra griega $\\mu$. Si tenemos una [muestra](https://es.wikipedia.org/wiki/Muestra_estad%C3%ADstica) de $n$ valores, $x_i$, la *media aritmética*, $\\mu$, es la suma de los valores divididos por el numero de elementos; en otras palabras:\n",
    "$$\\mu = \\frac{1}{n} \\sum_{i}x_i$$\n",
    "\n",
    "\n",
    "* **Desviación respecto a la media**: La desviación respecto a la media es la diferencia en valor absoluto entre cada valor de la variable estadística y la media aritmética.\n",
    "$$D_i = |x_i - \\mu|$$\n",
    "\n",
    "\n",
    "* **Varianza**: La [varianza](https://es.wikipedia.org/wiki/Varianza) es la media aritmética del cuadrado de las desviaciones respecto a la media de una distribución estadística. La varianza intenta describir la dispersión de los *[datos](https://es.wikipedia.org/wiki/Dato)*. Se representa como $\\sigma^2$. \n",
    "$$\\sigma^2 = \\frac{\\sum\\limits_{i=1}^n(x_i - \\mu)^2}{n} $$\n",
    "\n",
    "\n",
    "* **Desviación típica o estándar**: La [desviación típica](https://es.wikipedia.org/wiki/Desviaci%C3%B3n_t%C3%ADpica) es la raíz cuadrada de la varianza. Se representa con la letra griega $\\sigma$.\n",
    "$$\\sigma = \\sqrt{\\frac{\\sum\\limits_{i=1}^n(x_i - \\mu)^2}{n}} $$\n",
    "\n",
    "\n",
    "* **Moda**: La <a href=\"https://es.wikipedia.org/wiki/Moda_(estad%C3%ADstica)\">moda</a> es el valor que tiene mayor frecuencia absoluta. Se representa con $M_0$\n",
    "\n",
    "\n",
    "* **Mediana**: La <a href=\"https://es.wikipedia.org/wiki/Mediana_(estad%C3%ADstica)\">mediana</a> es el valor que ocupa el lugar central de todos los datos cuando éstos están ordenados de menor a mayor. Se representa con $\\widetilde{x}$.\n",
    "\n",
    "\n",
    "* **Correlación**: La [correlación](https://es.wikipedia.org/wiki/Correlaci%C3%B3n) trata de establecer la relación o dependencia que existe entre las dos variables que intervienen en una distribución bidimensional. Es decir, determinar si los cambios en una de las variables influyen en los cambios de la otra. En caso de que suceda, diremos que las variables están correlacionadas o que hay correlación entre ellas. La correlación es positiva cuando los valores de las variables aumenta juntos; y es negativa cuando un valor de una variable se reduce cuando el valor de la otra variable aumenta.\n",
    "\n",
    "\n",
    "* **Covarianza**: La [covarianza](https://es.wikipedia.org/wiki/Covarianza) es el equivalente de la varianza aplicado a una variable bidimensional. Es la media aritmética de los productos de las desviaciones de cada una de las variables respecto a sus medias respectivas. La covarianza indica el sentido de la correlación entre las variables; Si $\\sigma_{xy} > 0$ la correlación es directa; Si $\\sigma_{xy} < 0$ la correlación es inversa.\n",
    "\n",
    "$$\\sigma_{xy} = \\frac{\\sum\\limits_{i=1}^n(x_i - \\mu_x)(y_i -\\mu_y)}{n}$$\n",
    "\n",
    "\n",
    "* **Valor atípico**: Un [valor atípico](https://es.wikipedia.org/wiki/Valor_at%C3%ADpico) es una observación que se aleja demasiado de la moda; esta muy lejos de la tendencia principal del resto de los *[datos](https://es.wikipedia.org/wiki/Dato)*. Pueden ser causados por errores en la recolección de *[datos](https://es.wikipedia.org/wiki/Dato)* o medidas inusuales. Generalmente se recomienda eliminarlos del [conjunto de datos](https://es.wikipedia.org/wiki/Conjunto_de_datos).\n"
   ]
  },
  {
   "cell_type": "markdown",
   "metadata": {},
   "source": [
    "# Manejo de datos en Python ###\n",
    "\n",
    "para la ejecución de este taller requerimos que se tengan instaladas las siguientes librerias:\n",
    "* ``` pip install scipy numpy pandas matplotlib seaborn ```\n",
    "\n",
    "Con estas librerias instaladas, debemos cargar el dataset que usaremos en el resto del ejercicio. \n",
    "\n"
   ]
  },
  {
   "cell_type": "code",
   "execution_count": 1,
   "metadata": {},
   "outputs": [],
   "source": [
    "import numpy as np # importando numpy\n",
    "from scipy import stats # importando scipy.stats\n",
    "import pandas as pd # importando pandas\n",
    "import matplotlib as mp #importando matplotlib\n",
    "from scipy import stats\n",
    "import seaborn as sns \n",
    "#Mostrar las gráficas embebidas dentro del notebook\n",
    "%matplotlib inline"
   ]
  },
  {
   "cell_type": "code",
   "execution_count": 2,
   "metadata": {},
   "outputs": [
    {
     "data": {
      "text/plain": [
       "(111117, 61)"
      ]
     },
     "execution_count": 2,
     "metadata": {},
     "output_type": "execute_result"
    }
   ],
   "source": [
    "# Leer el dataset de los datos de performance\n",
    "data = pd.read_csv(\"../data/datasemanaSanta-17-23April.csv\")\n",
    "#mostrar el numero de fileas y columnas que se cargaron\n",
    "data.shape\n",
    "#data.memory_usage()"
   ]
  },
  {
   "cell_type": "code",
   "execution_count": 6,
   "metadata": {
    "scrolled": true
   },
   "outputs": [
    {
     "data": {
      "text/plain": [
       "['test_TransactionName',\n",
       " 'test_max_virtualUsers',\n",
       " 'test_cnt_totalSamples',\n",
       " 'test_cnt_failedSamples',\n",
       " 'test_totalThroughput_TPS',\n",
       " 'test_successfulThroughput_TPS',\n",
       " 'test_MEAN_responseTime_ms',\n",
       " 'test_MAX_responseTime_ms',\n",
       " 'test_MEDIAN_responseTime_ms',\n",
       " 'test_avg_successfulResponseTime_ms',\n",
       " 'cpu_avg_user_pct',\n",
       " 'cpu_avg_nice_pct',\n",
       " 'cpu_avg_sys_pct',\n",
       " 'cpu_avg_iowait_pct',\n",
       " 'cpu_avg_steal_pct',\n",
       " 'cpu_avg_irq_pct',\n",
       " 'cpu_avg_soft_pct',\n",
       " 'cpu_avg_guest_pct',\n",
       " 'cpu_avg_gnice_pct',\n",
       " 'cpu_avg_idle_pct',\n",
       " 'pag_avg_pgpgin_s',\n",
       " 'pag_avg_pgpgout_s',\n",
       " 'pag_avg_fault_s',\n",
       " 'pag_avg_majflt_s',\n",
       " 'pag_avg_pgfree_s',\n",
       " 'pag_avg_pgscank_s',\n",
       " 'pag_avg_pgscand_s',\n",
       " 'pag_avg_pgsteal_s',\n",
       " 'pag_avg_vmeff_pct',\n",
       " 'mem_avg_memfree_KB',\n",
       " 'mem_avg_memused_KB',\n",
       " 'mem_avg_memused_pct',\n",
       " 'mem_avg_buffers_KB',\n",
       " 'mem_avg_cached_KB',\n",
       " 'mem_avg_commit_KB',\n",
       " 'mem_avg_commit_pct',\n",
       " 'mem_avg_active_KB',\n",
       " 'mem_avg_inact_KB',\n",
       " 'mem_avg_dirty_KB',\n",
       " 'system_avg_proc_s',\n",
       " 'system_avg_cswch_s',\n",
       " 'net_avg_totsck_cnt',\n",
       " 'net_avg_tcpsck_cnt',\n",
       " 'net_avg_udpsck_cnt',\n",
       " 'net_avg_rawsck_cnt',\n",
       " 'net_avg_ip_frag_cnt',\n",
       " 'net_avg_tcp_tw_cnt',\n",
       " 'net_IFACE',\n",
       " 'net_avg_rxpck_s',\n",
       " 'net_avg_txpck_s',\n",
       " 'net_avg_rxkB_s',\n",
       " 'net_avg_txkB_s',\n",
       " 'net_avg_rxcmp_s',\n",
       " 'net_avg_txcmp_s',\n",
       " 'net_avg_rxmcst_s',\n",
       " 'swp_avg_pswpin_s',\n",
       " 'swp_avg_pswpout_s',\n",
       " 'test_ScenarioDescription',\n",
       " 'tag',\n",
       " 'scn_buildNumber',\n",
       " 'scn_jobName']"
      ]
     },
     "execution_count": 6,
     "metadata": {},
     "output_type": "execute_result"
    }
   ],
   "source": [
    "# Mostrar las columnas que se cargaron\n",
    "data.columns.tolist()"
   ]
  },
  {
   "cell_type": "markdown",
   "metadata": {},
   "source": [
    "### Descripción del dataset\n",
    "\n",
    "### Necesitamos ayuda de la gente de performance aqui\n",
    "\n",
    "- **test_TransactionName**:\n",
    "\n",
    "- test_max_virtualUsers',\n",
    "- test_cnt_totalSamples',\n",
    "- test_cnt_failedSamples',\n",
    "- test_totalThroughput_TPS',\n",
    "- test_successfulThroughput_TPS',\n",
    "- test_MEAN_responseTime_ms',\n",
    "- test_MAX_responseTime_ms',\n",
    "- test_MEDIAN_responseTime_ms',\n",
    "- test_avg_successfulResponseTime_ms',\n",
    "- cpu_avg_user_pct',\n",
    "- cpu_avg_nice_pct',\n",
    "- cpu_avg_sys_pct',\n",
    "- cpu_avg_iowait_pct',\n",
    "- cpu_avg_steal_pct',\n",
    "- cpu_avg_irq_pct',\n",
    "- cpu_avg_soft_pct',\n",
    "- cpu_avg_guest_pct',\n",
    "- cpu_avg_gnice_pct',\n",
    "- cpu_avg_idle_pct',\n",
    "- pag_avg_pgpgin_s',\n",
    "- pag_avg_pgpgout_s',\n",
    "- pag_avg_fault_s',\n",
    "- pag_avg_majflt_s',\n",
    "- pag_avg_pgfree_s',\n",
    "- pag_avg_pgscank_s',\n",
    "- pag_avg_pgscand_s',\n",
    "- pag_avg_pgsteal_s',\n",
    "- pag_avg_vmeff_pct',\n",
    "- mem_avg_memfree_KB',\n",
    "- mem_avg_memused_KB',\n",
    "- mem_avg_memused_pct',\n",
    "- mem_avg_buffers_KB',\n",
    "- mem_avg_cached_KB',\n",
    "- mem_avg_commit_KB',\n",
    "- mem_avg_commit_pct',\n",
    "- mem_avg_active_KB',\n",
    "- mem_avg_inact_KB',\n",
    "- mem_avg_dirty_KB',\n",
    "- system_avg_proc_s',\n",
    "- system_avg_cswch_s',\n",
    "- net_avg_totsck_cnt',\n",
    "- net_avg_tcpsck_cnt',\n",
    "- net_avg_udpsck_cnt',\n",
    "- net_avg_rawsck_cnt',\n",
    "- net_avg_ip_frag_cnt',\n",
    "- net_avg_tcp_tw_cnt',\n",
    "- net_IFACE',\n",
    "- net_avg_rxpck_s',\n",
    "- net_avg_txpck_s',\n",
    "- net_avg_rxkB_s',\n",
    "- net_avg_txkB_s',\n",
    "- net_avg_rxcmp_s',\n",
    "- net_avg_txcmp_s',\n",
    "- net_avg_rxmcst_s',\n",
    "- swp_avg_pswpin_s',\n",
    "- swp_avg_pswpout_s',\n",
    "- test_ScenarioDescription',\n",
    "- tag',\n",
    "- scn_buildNumber',\n",
    "- scn_jobName']"
   ]
  },
  {
   "cell_type": "markdown",
   "metadata": {},
   "source": [
    "Obtenemos las primeras 4 filas de dataframe"
   ]
  },
  {
   "cell_type": "code",
   "execution_count": 27,
   "metadata": {},
   "outputs": [
    {
     "data": {
      "text/html": [
       "<div>\n",
       "<style scoped>\n",
       "    .dataframe tbody tr th:only-of-type {\n",
       "        vertical-align: middle;\n",
       "    }\n",
       "\n",
       "    .dataframe tbody tr th {\n",
       "        vertical-align: top;\n",
       "    }\n",
       "\n",
       "    .dataframe thead th {\n",
       "        text-align: right;\n",
       "    }\n",
       "</style>\n",
       "<table border=\"1\" class=\"dataframe\">\n",
       "  <thead>\n",
       "    <tr style=\"text-align: right;\">\n",
       "      <th></th>\n",
       "      <th>test_TransactionName</th>\n",
       "      <th>test_max_virtualUsers</th>\n",
       "      <th>test_cnt_totalSamples</th>\n",
       "      <th>test_cnt_failedSamples</th>\n",
       "      <th>test_totalThroughput_TPS</th>\n",
       "      <th>test_successfulThroughput_TPS</th>\n",
       "      <th>test_MEAN_responseTime_ms</th>\n",
       "      <th>test_MAX_responseTime_ms</th>\n",
       "      <th>test_MEDIAN_responseTime_ms</th>\n",
       "      <th>test_avg_successfulResponseTime_ms</th>\n",
       "      <th>...</th>\n",
       "      <th>net_avg_txkB_s</th>\n",
       "      <th>net_avg_rxcmp_s</th>\n",
       "      <th>net_avg_txcmp_s</th>\n",
       "      <th>net_avg_rxmcst_s</th>\n",
       "      <th>swp_avg_pswpin_s</th>\n",
       "      <th>swp_avg_pswpout_s</th>\n",
       "      <th>test_ScenarioDescription</th>\n",
       "      <th>tag</th>\n",
       "      <th>scn_buildNumber</th>\n",
       "      <th>scn_jobName</th>\n",
       "    </tr>\n",
       "  </thead>\n",
       "  <tbody>\n",
       "    <tr>\n",
       "      <th>0</th>\n",
       "      <td>NaN</td>\n",
       "      <td>0</td>\n",
       "      <td>0</td>\n",
       "      <td>0</td>\n",
       "      <td>0</td>\n",
       "      <td>0</td>\n",
       "      <td>0.0</td>\n",
       "      <td>0</td>\n",
       "      <td>0.0</td>\n",
       "      <td>0.0</td>\n",
       "      <td>...</td>\n",
       "      <td>208.17</td>\n",
       "      <td>0</td>\n",
       "      <td>0</td>\n",
       "      <td>0.0</td>\n",
       "      <td>0.0</td>\n",
       "      <td>0.0</td>\n",
       "      <td>warmUp</td>\n",
       "      <td>NaN</td>\n",
       "      <td>194</td>\n",
       "      <td>Consultas-TimeSeries</td>\n",
       "    </tr>\n",
       "    <tr>\n",
       "      <th>1</th>\n",
       "      <td>NaN</td>\n",
       "      <td>0</td>\n",
       "      <td>0</td>\n",
       "      <td>0</td>\n",
       "      <td>0</td>\n",
       "      <td>0</td>\n",
       "      <td>0.0</td>\n",
       "      <td>0</td>\n",
       "      <td>0.0</td>\n",
       "      <td>0.0</td>\n",
       "      <td>...</td>\n",
       "      <td>2.82</td>\n",
       "      <td>0</td>\n",
       "      <td>0</td>\n",
       "      <td>0.0</td>\n",
       "      <td>0.0</td>\n",
       "      <td>0.0</td>\n",
       "      <td>warmUp</td>\n",
       "      <td>NaN</td>\n",
       "      <td>194</td>\n",
       "      <td>Consultas-TimeSeries</td>\n",
       "    </tr>\n",
       "    <tr>\n",
       "      <th>2</th>\n",
       "      <td>NaN</td>\n",
       "      <td>0</td>\n",
       "      <td>0</td>\n",
       "      <td>0</td>\n",
       "      <td>0</td>\n",
       "      <td>0</td>\n",
       "      <td>0.0</td>\n",
       "      <td>0</td>\n",
       "      <td>0.0</td>\n",
       "      <td>0.0</td>\n",
       "      <td>...</td>\n",
       "      <td>6.51</td>\n",
       "      <td>0</td>\n",
       "      <td>0</td>\n",
       "      <td>0.0</td>\n",
       "      <td>0.0</td>\n",
       "      <td>0.0</td>\n",
       "      <td>warmUp</td>\n",
       "      <td>NaN</td>\n",
       "      <td>194</td>\n",
       "      <td>Consultas-TimeSeries</td>\n",
       "    </tr>\n",
       "    <tr>\n",
       "      <th>3</th>\n",
       "      <td>NaN</td>\n",
       "      <td>0</td>\n",
       "      <td>0</td>\n",
       "      <td>0</td>\n",
       "      <td>0</td>\n",
       "      <td>0</td>\n",
       "      <td>0.0</td>\n",
       "      <td>0</td>\n",
       "      <td>0.0</td>\n",
       "      <td>0.0</td>\n",
       "      <td>...</td>\n",
       "      <td>0.34</td>\n",
       "      <td>0</td>\n",
       "      <td>0</td>\n",
       "      <td>0.0</td>\n",
       "      <td>0.0</td>\n",
       "      <td>0.0</td>\n",
       "      <td>warmUp</td>\n",
       "      <td>NaN</td>\n",
       "      <td>194</td>\n",
       "      <td>Consultas-TimeSeries</td>\n",
       "    </tr>\n",
       "    <tr>\n",
       "      <th>4</th>\n",
       "      <td>NaN</td>\n",
       "      <td>0</td>\n",
       "      <td>0</td>\n",
       "      <td>0</td>\n",
       "      <td>0</td>\n",
       "      <td>0</td>\n",
       "      <td>0.0</td>\n",
       "      <td>0</td>\n",
       "      <td>0.0</td>\n",
       "      <td>0.0</td>\n",
       "      <td>...</td>\n",
       "      <td>0.00</td>\n",
       "      <td>0</td>\n",
       "      <td>0</td>\n",
       "      <td>0.0</td>\n",
       "      <td>0.0</td>\n",
       "      <td>0.0</td>\n",
       "      <td>warmUp</td>\n",
       "      <td>NaN</td>\n",
       "      <td>194</td>\n",
       "      <td>Consultas-TimeSeries</td>\n",
       "    </tr>\n",
       "  </tbody>\n",
       "</table>\n",
       "<p>5 rows × 61 columns</p>\n",
       "</div>"
      ],
      "text/plain": [
       "  test_TransactionName  test_max_virtualUsers  test_cnt_totalSamples  \\\n",
       "0                  NaN                      0                      0   \n",
       "1                  NaN                      0                      0   \n",
       "2                  NaN                      0                      0   \n",
       "3                  NaN                      0                      0   \n",
       "4                  NaN                      0                      0   \n",
       "\n",
       "   test_cnt_failedSamples  test_totalThroughput_TPS  \\\n",
       "0                       0                         0   \n",
       "1                       0                         0   \n",
       "2                       0                         0   \n",
       "3                       0                         0   \n",
       "4                       0                         0   \n",
       "\n",
       "   test_successfulThroughput_TPS  test_MEAN_responseTime_ms  \\\n",
       "0                              0                        0.0   \n",
       "1                              0                        0.0   \n",
       "2                              0                        0.0   \n",
       "3                              0                        0.0   \n",
       "4                              0                        0.0   \n",
       "\n",
       "   test_MAX_responseTime_ms  test_MEDIAN_responseTime_ms  \\\n",
       "0                         0                          0.0   \n",
       "1                         0                          0.0   \n",
       "2                         0                          0.0   \n",
       "3                         0                          0.0   \n",
       "4                         0                          0.0   \n",
       "\n",
       "   test_avg_successfulResponseTime_ms  ...  net_avg_txkB_s  net_avg_rxcmp_s  \\\n",
       "0                                 0.0  ...          208.17                0   \n",
       "1                                 0.0  ...            2.82                0   \n",
       "2                                 0.0  ...            6.51                0   \n",
       "3                                 0.0  ...            0.34                0   \n",
       "4                                 0.0  ...            0.00                0   \n",
       "\n",
       "   net_avg_txcmp_s  net_avg_rxmcst_s  swp_avg_pswpin_s  swp_avg_pswpout_s  \\\n",
       "0                0               0.0               0.0                0.0   \n",
       "1                0               0.0               0.0                0.0   \n",
       "2                0               0.0               0.0                0.0   \n",
       "3                0               0.0               0.0                0.0   \n",
       "4                0               0.0               0.0                0.0   \n",
       "\n",
       "   test_ScenarioDescription  tag  scn_buildNumber           scn_jobName  \n",
       "0                    warmUp  NaN              194  Consultas-TimeSeries  \n",
       "1                    warmUp  NaN              194  Consultas-TimeSeries  \n",
       "2                    warmUp  NaN              194  Consultas-TimeSeries  \n",
       "3                    warmUp  NaN              194  Consultas-TimeSeries  \n",
       "4                    warmUp  NaN              194  Consultas-TimeSeries  \n",
       "\n",
       "[5 rows x 61 columns]"
      ]
     },
     "execution_count": 27,
     "metadata": {},
     "output_type": "execute_result"
    }
   ],
   "source": [
    "data.head(5)"
   ]
  },
  {
   "cell_type": "markdown",
   "metadata": {},
   "source": [
    "Extraer un campo en particular para operar sobre el."
   ]
  },
  {
   "cell_type": "code",
   "execution_count": 28,
   "metadata": {},
   "outputs": [
    {
     "data": {
      "text/plain": [
       "0    208.17\n",
       "1      2.82\n",
       "2      6.51\n",
       "3      0.34\n",
       "4      0.00\n",
       "Name: net_avg_txkB_s, dtype: float64"
      ]
     },
     "execution_count": 28,
     "metadata": {},
     "output_type": "execute_result"
    }
   ],
   "source": [
    "data['net_avg_txkB_s'].head(5)"
   ]
  },
  {
   "cell_type": "markdown",
   "metadata": {},
   "source": [
    "## Trabajemos con los datos\n",
    "\n",
    "los principales módulos que Python nos ofrece para trabajar con probabilidad y estadística, son:\n",
    "\n",
    "* ***numpy***: El popular paquete matemático de Python, se utiliza tanto que mucha gente ya lo considera parte integral del lenguaje. Nos proporciona algunas funciones estadísticas que podemos aplicar fácilmente sobre los arrays de Numpy.\n",
    "\n",
    "* ***scipy.stats***: Este submodulo del paquete científico Scipy es el complemento perfecto para Numpy, las funciones estadisticas que no encontremos en uno, las podemos encontrar en el otro.\n",
    "\n",
    "* ***statsmodels***: Esta librería nos brinda un gran número de herramientas para explorar datos, estimar modelos estadísticos, realizar pruebas estadísticas y muchas cosas más.\n",
    "\n",
    "* ***matplotlib***: Es la librería más popular en Python para visualizaciones y gráficos. Ella nos va a permitir realizar los gráficos de las distintas distribuciones de datos.\n",
    "\n",
    "* ***seaborn***: Esta librería es un complemento ideal de matplotlib para realizar gráficos estadísticos.\n",
    "\n",
    "* ***pandas***: Esta es la librería más popular para análisis de datos y financieros. Posee algunas funciones muy útiles para realizar estadística descriptiva sobre nuestros datos y nos facilita sobremanera el trabajar con series de tiempo.\n",
    "\n",
    "* ***pyMC***: pyMC es un módulo de Python que implementa modelos estadísticos bayesianos, incluyendo la cadena de Markov Monte Carlo(MCMC). pyMC ofrece funcionalidades para hacer el análisis bayesiano lo mas simple posible.\n",
    "\n",
    "\n",
    "***Calcular las medidas de tendencia central ***"
   ]
  },
  {
   "cell_type": "code",
   "execution_count": 38,
   "metadata": {},
   "outputs": [
    {
     "name": "stdout",
     "output_type": "stream",
     "text": [
      "El promedio es 1333.04\n",
      "La media es 1523.52\n",
      "La moda es 0.0\n",
      "EL promedio con np es 1333.04\n",
      "La media con np es 1523.52\n",
      "La moda con statsmodel es 0.0 con 7612 ejemplares\n"
     ]
    }
   ],
   "source": [
    "#Calcular el promedio \n",
    "print(\"El promedio es {:.2f}\".format(data['net_avg_txkB_s'].mean()))\n",
    "\n",
    "#Calcular la media \n",
    "print(\"La media es {:.2f}\".format(data['net_avg_txkB_s'].median()))\n",
    "\n",
    "#Calcular la moda\n",
    "print(\"La moda es {}\".format(data['net_avg_txkB_s'].mode()[0]))\n",
    "\n",
    "## Ahora con numpy para calcular los mismos datos\n",
    "\n",
    "print(\"EL promedio con np es {:.2f}\".format(np.mean(data['net_avg_txkB_s']))) \n",
    "\n",
    "print(\"La media con np es {:.2f}\".format(np.median(data['net_avg_txkB_s']))) \n",
    "\n",
    "moda = stats.mode(data['net_avg_txkB_s'])\n",
    "print(\"La moda con statsmodel es {} con {} ejemplares\".format(moda.mode[0], moda.count[0]))"
   ]
  },
  {
   "cell_type": "markdown",
   "metadata": {},
   "source": [
    "Calcular las estadísticas sobre un campo directamente del data frame."
   ]
  },
  {
   "cell_type": "code",
   "execution_count": 26,
   "metadata": {},
   "outputs": [
    {
     "data": {
      "text/plain": [
       "count    111117.000000\n",
       "mean       1333.044949\n",
       "std        1015.704202\n",
       "min           0.000000\n",
       "25%         228.880000\n",
       "50%        1523.520000\n",
       "75%        2361.070000\n",
       "max        4619.170000\n",
       "Name: net_avg_txkB_s, dtype: float64"
      ]
     },
     "execution_count": 26,
     "metadata": {},
     "output_type": "execute_result"
    }
   ],
   "source": [
    "data['net_avg_txkB_s'].describe()"
   ]
  },
  {
   "cell_type": "markdown",
   "metadata": {},
   "source": [
    "También podemos calcular uno por uno"
   ]
  },
  {
   "cell_type": "code",
   "execution_count": 39,
   "metadata": {},
   "outputs": [
    {
     "data": {
      "text/plain": [
       "111117"
      ]
     },
     "execution_count": 39,
     "metadata": {},
     "output_type": "execute_result"
    }
   ],
   "source": [
    "data['net_avg_txkB_s'].count()"
   ]
  },
  {
   "cell_type": "markdown",
   "metadata": {},
   "source": [
    "## Histogramas y Distribuciones\n",
    "\n",
    "Muchas veces los indicadores de la *[estadística descriptiva](https://es.wikipedia.org/wiki/Estad%C3%ADstica_descriptiva)* no nos proporcionan una imagen clara de nuestros *[datos](https://es.wikipedia.org/wiki/Dato)*.  Por esta razón, siempre es útil complementarlos con gráficos de las distribuciones de los *[datos](https://es.wikipedia.org/wiki/Dato)*, que describan con qué frecuencia aparece cada valor. La representación más común de una distribución es un [histograma](https://es.wikipedia.org/wiki/Histograma), que es un gráfico que muestra la frecuencia o probabilidad de cada valor. El [histograma](https://es.wikipedia.org/wiki/Histograma) muestra las frecuencias como un gráfico de barras que indica cuan frecuente un determinado valor ocurre en el [conjunto de datos](https://es.wikipedia.org/wiki/Conjunto_de_datos). El eje horizontal representa los valores del [conjunto de datos](https://es.wikipedia.org/wiki/Conjunto_de_datos) y el eje vertical representa la frecuencia con que esos valores ocurren.\n",
    "\n",
    "Las distribuciones se pueden clasificar en dos grandes grupos:\n",
    "\n",
    "1. Las **[distribuciones continuas](https://es.wikipedia.org/wiki/Distribuci%C3%B3n_de_probabilidad_continua)**, que son aquellas que presentan un número infinito de posibles soluciones. Dentro de este grupo vamos a encontrar a las distribuciones: \n",
    "    * [normal](https://es.wikipedia.org/wiki/Distribuci%C3%B3n_normal),\n",
    "    * [gamma](https://es.wikipedia.org/wiki/Distribuci%C3%B3n_gamma),\n",
    "    * [chi cuadrado](https://es.wikipedia.org/wiki/Distribuci%C3%B3n_%CF%87%C2%B2), \n",
    "    * [t de Student](https://es.wikipedia.org/wiki/Distribuci%C3%B3n_t_de_Student), \n",
    "    * [pareto](https://es.wikipedia.org/wiki/Distribuci%C3%B3n_de_Pareto),\n",
    "    * entre otras\n",
    "\n",
    "2. Las **distribuciones discretas**, que son aquellas en las que la variable puede pude tomar un número determinado de valores. Los principales exponenetes de este grupo son las distribuciones: \n",
    "    * [poisson](https://es.wikipedia.org/wiki/Distribuci%C3%B3n_de_Poisson),\n",
    "    * [binomial](https://es.wikipedia.org/wiki/Distribuci%C3%B3n_binomial),\n",
    "    * [hipergeométrica](https://es.wikipedia.org/wiki/Distribuci%C3%B3n_hipergeom%C3%A9trica),\n",
    "    * [bernoulli](https://es.wikipedia.org/wiki/Distribuci%C3%B3n_de_Bernoulli)\n",
    "    * entre otras\n"
   ]
  },
  {
   "cell_type": "code",
   "execution_count": 42,
   "metadata": {},
   "outputs": [],
   "source": [
    "import matplotlib.pyplot as plt # importando matplotlib\n",
    "import seaborn as sns # importando seaborn\n",
    "\n",
    "# parametros esteticos de seaborn\n",
    "sns.set_palette(\"deep\", desat=.6)\n",
    "sns.set_context(rc={\"figure.figsize\": (8, 4)})"
   ]
  },
  {
   "cell_type": "markdown",
   "metadata": {},
   "source": [
    "A continuación, se crea un conjunto de datos que, por defecto se distribuiran de forma normal (campana de Gauss) donde la media será $0$ y la desvicación estándar será $0.1$, y tendrémos $1000$ ejemplares."
   ]
  },
  {
   "cell_type": "code",
   "execution_count": 48,
   "metadata": {},
   "outputs": [],
   "source": [
    "mu, sigma = 0, 0.1 # media y desvio estandar\n",
    "s = np.random.normal(mu, sigma, 1000) # creando muestra de datos"
   ]
  },
  {
   "cell_type": "markdown",
   "metadata": {},
   "source": [
    "Gráficamente podemos observar que los datos se distribuyen de forma normal."
   ]
  },
  {
   "cell_type": "code",
   "execution_count": 52,
   "metadata": {},
   "outputs": [
    {
     "data": {
      "image/png": "[encoded data removed]",
      "text/plain": [
       "<Figure size 720x432 with 1 Axes>"
      ]
     },
     "metadata": {
      "needs_background": "light"
     },
     "output_type": "display_data"
    }
   ],
   "source": [
    "# histograma de distribución normal.\n",
    "plt.figure(figsize=(10, 6))\n",
    "cuenta, cajas, ignorar = plt.hist(s, 30, density=True)\n",
    "plt.plot(cajas, 1/(sigma * np.sqrt(2 * np.pi)) *\n",
    "         np.exp( - (cajas - mu)**2 / (2 * sigma**2) ),\n",
    "         linewidth=2, color='r', label=r\"$\\mu=0.0, \\sigma=0.1$\")\n",
    "plt.title('Ejemplo de distribución normal')\n",
    "plt.xlabel('Valores')\n",
    "plt.ylabel('Frecuencias')\n",
    "plt.legend(fontsize=14)\n",
    "plt.show()"
   ]
  },
  {
   "cell_type": "code",
   "execution_count": 18,
   "metadata": {},
   "outputs": [
    {
     "data": {
      "text/plain": [
       "<matplotlib.axes._subplots.AxesSubplot at 0x7f2d60ac1748>"
      ]
     },
     "execution_count": 18,
     "metadata": {},
     "output_type": "execute_result"
    },
    {
     "data": {
      "image/png": "[encoded data removed]",
      "text/plain": [
       "<Figure size 432x288 with 1 Axes>"
      ]
     },
     "metadata": {},
     "output_type": "display_data"
    }
   ],
   "source": []
  },
  {
   "cell_type": "markdown",
   "metadata": {},
   "source": [
    "## Observando como se distribuyen los datos en el data set de performance"
   ]
  },
  {
   "cell_type": "code",
   "execution_count": 54,
   "metadata": {},
   "outputs": [
    {
     "data": {
      "image/png": "[encoded data removed]",
      "text/plain": [
       "<Figure size 720x360 with 1 Axes>"
      ]
     },
     "metadata": {
      "needs_background": "light"
     },
     "output_type": "display_data"
    }
   ],
   "source": [
    "data['net_avg_txkB_s'].plot.kde(color='red')\n",
    "#graficar el histograma de una variable net_avg_txkB_s\n",
    "data['net_avg_txkB_s'].hist(color='blue',density=True, figsize=(10,5), bins=40)\n",
    "#Que tipo de ditribución es ? \n",
    "plt.show()"
   ]
  },
  {
   "cell_type": "markdown",
   "metadata": {},
   "source": [
    "### Distribuciones simetricas y asimetricas\n",
    "\n",
    "Una distribución es simétrica cuando moda, mediana y media coinciden aproximadamente en sus valores. Si una distribución es simétrica, existe el mismo número de valores a la derecha que a la izquierda de la media, por tanto, el mismo número de desviaciones con signo positivo que con signo negativo.\n",
    "\n",
    "Una distribución tiene [asimetria](https://es.wikipedia.org/wiki/Asimetr%C3%ADa_estad%C3%ADstica) positiva (o a la derecha) si la \"cola\" a la derecha de la media es más larga que la de la izquierda, es decir, si hay valores más separados de la media a la derecha. De la misma forma una distribución tiene [asimetria](https://es.wikipedia.org/wiki/Asimetr%C3%ADa_estad%C3%ADstica) negativa (o a la izquierda) si la \"cola\" a la izquierda de la media es más larga que la de la derecha, es decir, si hay valores más separados de la media a la izquierda.\n",
    "\n",
    "Las distribuciones asimétricas suelen ser problemáticas, ya que la mayoría de los métodos estadísticos suelen estar desarrollados para distribuciones del tipo [normal](https://es.wikipedia.org/wiki/Distribuci%C3%B3n_normal). Para salvar estos problemas se suelen realizar transformaciones a los datos para hacer a estas distribuciones más simétricas y acercarse a la [distribución normal](https://es.wikipedia.org/wiki/Distribuci%C3%B3n_normal).  "
   ]
  },
  {
   "cell_type": "code",
   "execution_count": 55,
   "metadata": {},
   "outputs": [
    {
     "data": {
      "image/png": "[encoded data removed]",
      "text/plain": [
       "<Figure size 720x432 with 1 Axes>"
      ]
     },
     "metadata": {
      "needs_background": "light"
     },
     "output_type": "display_data"
    }
   ],
   "source": [
    "# Dibujando la distribucion Gamma\n",
    "plt.figure(figsize=(10, 6))\n",
    "x = stats.gamma(3).rvs(5000)\n",
    "gamma = plt.hist(x, 70, histtype=\"stepfilled\", alpha=.7)\n",
    "plt.title('Distribución Gamma')\n",
    "plt.xlabel('Valores')\n",
    "plt.ylabel('Frecuencias')\n",
    "plt.show()"
   ]
  },
  {
   "cell_type": "markdown",
   "metadata": {},
   "source": [
    "## Cuartiles y diagramas de cajas\n",
    "\n",
    "Los **[cuartiles](https://es.wikipedia.org/wiki/Cuartil)** son los tres valores de la variable estadística que dividen a un [conjunto de datos](https://es.wikipedia.org/wiki/Conjunto_de_datos) ordenados en cuatro partes iguales. Q1, Q2 y Q3 determinan los valores correspondientes al 25%, al 50% y al 75% de los datos. Q2 coincide con la <a href=\"https://es.wikipedia.org/wiki/Mediana_(estad%C3%ADstica)\">mediana</a>.\n",
    "\n",
    "Los [diagramas de cajas](https://es.wikipedia.org/wiki/Diagrama_de_caja) son una presentación visual que describe varias características importantes al mismo tiempo, tales como la dispersión y simetría. Para su realización se representan los tres cuartiles y los valores mínimo y máximo de los datos, sobre un rectángulo, alineado horizontal o verticalmente. Estos gráficos nos proporcionan abundante información y son sumamente útiles para encontrar [valores atípicos](https://es.wikipedia.org/wiki/Valor_at%C3%ADpico) y comparar dos [conjunto de datos](https://es.wikipedia.org/wiki/Conjunto_de_datos). \n",
    "\n",
    "\n",
    "<img alt=\"diagrama de cajas\" title=\"Diagrama de cajas\" src=\"http://relopezbriega.github.io/images/diagCajas.png\" width=\"600\">"
   ]
  },
  {
   "cell_type": "code",
   "execution_count": 7,
   "metadata": {},
   "outputs": [
    {
     "data": {
      "image/png": "[encoded data removed]",
      "text/plain": [
       "<Figure size 432x288 with 1 Axes>"
      ]
     },
     "metadata": {},
     "output_type": "display_data"
    }
   ],
   "source": [
    "#Hacer el boxplot del el promedio de consumo de Red\n",
    "sns.boxplot(x=data['net_avg_txkB_s']);"
   ]
  },
  {
   "cell_type": "code",
   "execution_count": null,
   "metadata": {},
   "outputs": [],
   "source": []
  }
 ],
 "metadata": {
  "kernelspec": {
   "display_name": "Python 3",
   "language": "python",
   "name": "python3"
  },
  "language_info": {
   "codemirror_mode": {
    "name": "ipython",
    "version": 3
   },
   "file_extension": ".py",
   "mimetype": "text/x-python",
   "name": "python",
   "nbconvert_exporter": "python",
   "pygments_lexer": "ipython3",
   "version": "3.7.1"
  }
 },
 "nbformat": 4,
 "nbformat_minor": 2
}
