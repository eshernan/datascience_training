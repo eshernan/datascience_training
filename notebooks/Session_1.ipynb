{
 "cells": [
  {
   "cell_type": "markdown",
   "metadata": {},
   "source": [
    "# Introduccion a la estadistica"
   ]
  },
  {
   "cell_type": "markdown",
   "metadata": {},
   "source": [
    "## ¿Qué es la Estadística?\n",
    "\n",
    "La *[estadística](http://es.wikipedia.org/wiki/Estad%C3%ADstica)* suele ser definida como la ciencia de aprender de los *[datos](https://es.wikipedia.org/wiki/Dato)* o como la ciencia de obtener conclusiones en la presencia de incertidumbre. Se relaciona principalmente con la recolección, análisis e interpretación de *[datos](https://es.wikipedia.org/wiki/Dato)*, así como también con la efectiva comunicación y presentación de los resultados basados en esos *[datos](https://es.wikipedia.org/wiki/Dato)*. Como por *[datos](https://es.wikipedia.org/wiki/Dato)* entendemos a cualquier clase de información grabada, la *[estadística](http://es.wikipedia.org/wiki/Estad%C3%ADstica)* juego un rol importante en muchas disciplinas científicas.\n",
    "\n",
    "La *[estadística](http://es.wikipedia.org/wiki/Estad%C3%ADstica)* puede ser muy importante para una efectiva toma de decisiones. Existe una gran cantidad de valiosa información escondida entre los *[datos](https://es.wikipedia.org/wiki/Dato)*, pero esta información no suele ser fácilmente accesible, la *[estadística](http://es.wikipedia.org/wiki/Estad%C3%ADstica)* nos brinda los principios fundamentales que nos permiten extraer y entender esa información; tambien nos proporciona las herramientas necesarias para verificar la calidad de nuestros *[datos](https://es.wikipedia.org/wiki/Dato)* y nuestra información.\n",
    "\n",
    "La *[estadística](http://es.wikipedia.org/wiki/Estad%C3%ADstica)* suele ser dividida en dos grandes ramas:\n",
    "\n",
    "1. La *[estadística descriptiva](https://es.wikipedia.org/wiki/Estad%C3%ADstica_descriptiva)*: La cual se dedica a recolectar, ordenar, analizar y representar a un [conjunto de datos](https://es.wikipedia.org/wiki/Conjunto_de_datos), con el fin de describir apropiadamente las características de este. Calcula los parámetros estadísticos que describen el conjunto estudiado. Algunas de las herramientas que utiliza son gráficos, medidas de frecuencias, medidas de centralización, medidas de posición, medidas de dispersión, entre otras.\n",
    "\n",
    "2. La *[estadistica inferencial](https://es.wikipedia.org/wiki/Estad%C3%ADstica_inferencial)*: La cual estudia cómo sacar conclusiones generales para toda la [población](https://es.wikipedia.org/wiki/Poblaci%C3%B3n_estad%C3%ADstica) a partir del estudio de una <a href=\"https://es.wikipedia.org/wiki/Muestreo_(estad%C3%ADstica)\">muestra</a>, y el grado de fiabilidad o significación de los resultados obtenidos. Sus principales herramientas son el <a href=\"https://es.wikipedia.org/wiki/Muestreo_(estad%C3%ADstica)\">muestreo</a>, la estimación de parámetros y el contraste de hipótesis.\n",
    "En este curso estudiaremos la estadistica descriptiva. "
   ]
  },
  {
   "cell_type": "markdown",
   "metadata": {},
   "source": [
    "## Conceptos básicos de la estadística descriptiva\n",
    "\n",
    "* **Población**:La *[población](https://es.wikipedia.org/wiki/Poblaci%C3%B3n_estad%C3%ADstica)* representa la colección **completa** de elementos o resultados de la información con determinadas características.\n",
    "\n",
    "\n",
    "* **Muestra**:Una *[muestra](https://es.wikipedia.org/wiki/Muestra_estad%C3%ADstica)* constituye un **subconjunto** de una población,que contiene elementos o resultados **representativos** que  se desean observan.\n",
    "\n",
    "\n",
    "* **Una muestra aleatoria**: Es una muestra simple de tamaño es una muestra elegida por un método en el que cada colección den elementos de la población tiene la mismaprobabilidad de formar la muestra,de la misma manera que en una lotería\n",
    "\n",
    "\n",
    "\n",
    "En *[estadística descriptiva](https://es.wikipedia.org/wiki/Estad%C3%ADstica_descriptiva)* se utilizan distintas medidas para intentar describir las propiedades de nuestros datos, algunos de los conceptos básicos, son:\n",
    "\n",
    "* **Media aritmética**: La [media aritmética](https://es.wikipedia.org/wiki/Media_aritm%C3%A9tica) es el valor obtenido al sumar todos los *[datos](https://es.wikipedia.org/wiki/Dato)* y dividir el resultado entre el número total elementos. Se suele representar con la letra griega $\\mu$. Si tenemos una [muestra](https://es.wikipedia.org/wiki/Muestra_estad%C3%ADstica) de $n$ valores, $x_i$, la *media aritmética*, $\\mu$, es la suma de los valores divididos por el numero de elementos; en otras palabras:\n",
    "$$\\mu = \\frac{1}{n} \\sum_{i}x_i$$\n",
    "\n",
    "\n",
    "* **Desviación respecto a la media**: La desviación respecto a la media es la diferencia en valor absoluto entre cada valor de la variable estadística y la media aritmética.\n",
    "$$D_i = |x_i - \\mu|$$\n",
    "\n",
    "\n",
    "* **Varianza**: La [varianza](https://es.wikipedia.org/wiki/Varianza) es la media aritmética del cuadrado de las desviaciones respecto a la media de una distribución estadística. La varianza intenta describir la dispersión de los *[datos](https://es.wikipedia.org/wiki/Dato)*. Se representa como $\\sigma^2$. \n",
    "$$\\sigma^2 = \\frac{\\sum\\limits_{i=1}^n(x_i - \\mu)^2}{n} $$\n",
    "\n",
    "\n",
    "* **Desviación típica**: La [desviación típica](https://es.wikipedia.org/wiki/Desviaci%C3%B3n_t%C3%ADpica) es la raíz cuadrada de la varianza. Se representa con la letra griega $\\sigma$.\n",
    "$$\\sigma = \\sqrt{\\frac{\\sum\\limits_{i=1}^n(x_i - \\mu)^2}{n}} $$\n",
    "\n",
    "\n",
    "* **Moda**: La <a href=\"https://es.wikipedia.org/wiki/Moda_(estad%C3%ADstica)\">moda</a> es el valor que tiene mayor frecuencia absoluta. Se representa con $M_0$\n",
    "\n",
    "\n",
    "* **Mediana**: La <a href=\"https://es.wikipedia.org/wiki/Mediana_(estad%C3%ADstica)\">mediana</a> es el valor que ocupa el lugar central de todos los datos cuando éstos están ordenados de menor a mayor. Se representa con $\\widetilde{x}$.\n",
    "\n",
    "\n",
    "* **Correlación**: La [correlación](https://es.wikipedia.org/wiki/Correlaci%C3%B3n) trata de establecer la relación o dependencia que existe entre las dos variables que intervienen en una distribución bidimensional. Es decir, determinar si los cambios en una de las variables influyen en los cambios de la otra. En caso de que suceda, diremos que las variables están correlacionadas o que hay correlación entre ellas. La correlación es positiva cuando los valores de las variables aumenta juntos; y es negativa cuando un valor de una variable se reduce cuando el valor de la otra variable aumenta.\n",
    "\n",
    "\n",
    "* **Covarianza**: La [covarianza](https://es.wikipedia.org/wiki/Covarianza) es el equivalente de la varianza aplicado a una variable bidimensional. Es la media aritmética de los productos de las desviaciones de cada una de las variables respecto a sus medias respectivas.La covarianza indica el sentido de la correlación entre las variables; Si $\\sigma_{xy} > 0$ la correlación es directa; Si $\\sigma_{xy} < 0$ la correlación es inversa.\n",
    "\n",
    "$$\\sigma_{xy} = \\frac{\\sum\\limits_{i=1}^n(x_i - \\mu_x)(y_i -\\mu_y)}{n}$$\n",
    "\n",
    "\n",
    "* **Valor atípico**: Un [valor atípico](https://es.wikipedia.org/wiki/Valor_at%C3%ADpico) es una observación que se aleja demasiado de la moda; esta muy lejos de la tendencia principal del resto de los *[datos](https://es.wikipedia.org/wiki/Dato)*. Pueden ser causados por errores en la recolección de *[datos](https://es.wikipedia.org/wiki/Dato)* o medidas inusuales. Generalmente se recomienda eliminarlos del [conjunto de datos](https://es.wikipedia.org/wiki/Conjunto_de_datos).\n"
   ]
  },
  {
   "cell_type": "markdown",
   "metadata": {},
   "source": [
    "# Manejo de datos en Python ###\n",
    "\n",
    "para la ejecución de este taller requerimos que se tengan instaladas las siguientes librerias:\n",
    "* ``` pip install scipy numpy pandas matplotlib seaborn ```\n",
    "\n",
    "Con estas librerias instaladas, debemos cargar el dataset que usaremos en el resto del ejercicio. \n",
    "\n"
   ]
  },
  {
   "cell_type": "code",
   "execution_count": 1,
   "metadata": {},
   "outputs": [],
   "source": [
    "import numpy as np # importando numpy\n",
    "from scipy import stats # importando scipy.stats\n",
    "import pandas as pd # importando pandas\n",
    "import matplotlib as mp #importando matplotlib\n",
    "from scipy import stats\n",
    "import seaborn as sns "
   ]
  },
  {
   "cell_type": "code",
   "execution_count": 4,
   "metadata": {},
   "outputs": [
    {
     "data": {
      "text/plain": [
       "(111117, 61)"
      ]
     },
     "execution_count": 4,
     "metadata": {},
     "output_type": "execute_result"
    }
   ],
   "source": [
    "from IPython.core.interactiveshell import InteractiveShell\n",
    "InteractiveShell.ast_node_interactivity = \"all\"\n",
    "\n",
    "# Leer el dataset de los datos de performance\n",
    "data = pd.read_csv(\"../data/datasemanaSanta-17-23April.csv\")\n",
    "#mostrar el numero de fileas y columnas que se cargaron\n",
    "data.shape\n",
    "#data.memory_usage()"
   ]
  },
  {
   "cell_type": "code",
   "execution_count": null,
   "metadata": {
    "scrolled": true
   },
   "outputs": [],
   "source": [
    "# Mostrar las columnas que se cargaron\n",
    "data.columns.to_list()"
   ]
  },
  {
   "cell_type": "markdown",
   "metadata": {},
   "source": [
    "### Descripción del dataset\n",
    "\n",
    "### Necesitamos ayuda de la gente de performance aqui\n",
    "\n",
    "- **test_TransactionName**:\n",
    "\n",
    "- test_max_virtualUsers',\n",
    "- test_cnt_totalSamples',\n",
    "- test_cnt_failedSamples',\n",
    "- test_totalThroughput_TPS',\n",
    "- test_successfulThroughput_TPS',\n",
    "- test_MEAN_responseTime_ms',\n",
    "- test_MAX_responseTime_ms',\n",
    "- test_MEDIAN_responseTime_ms',\n",
    "- test_avg_successfulResponseTime_ms',\n",
    "- cpu_avg_user_pct',\n",
    "- cpu_avg_nice_pct',\n",
    "- cpu_avg_sys_pct',\n",
    "- cpu_avg_iowait_pct',\n",
    "- cpu_avg_steal_pct',\n",
    "- cpu_avg_irq_pct',\n",
    "- cpu_avg_soft_pct',\n",
    "- cpu_avg_guest_pct',\n",
    "- cpu_avg_gnice_pct',\n",
    "- cpu_avg_idle_pct',\n",
    "- pag_avg_pgpgin_s',\n",
    "- pag_avg_pgpgout_s',\n",
    "- pag_avg_fault_s',\n",
    "- pag_avg_majflt_s',\n",
    "- pag_avg_pgfree_s',\n",
    "- pag_avg_pgscank_s',\n",
    "- pag_avg_pgscand_s',\n",
    "- pag_avg_pgsteal_s',\n",
    "- pag_avg_vmeff_pct',\n",
    "- mem_avg_memfree_KB',\n",
    "- mem_avg_memused_KB',\n",
    "- mem_avg_memused_pct',\n",
    "- mem_avg_buffers_KB',\n",
    "- mem_avg_cached_KB',\n",
    "- mem_avg_commit_KB',\n",
    "- mem_avg_commit_pct',\n",
    "- mem_avg_active_KB',\n",
    "- mem_avg_inact_KB',\n",
    "- mem_avg_dirty_KB',\n",
    "- system_avg_proc_s',\n",
    "- system_avg_cswch_s',\n",
    "- net_avg_totsck_cnt',\n",
    "- net_avg_tcpsck_cnt',\n",
    "- net_avg_udpsck_cnt',\n",
    "- net_avg_rawsck_cnt',\n",
    "- net_avg_ip_frag_cnt',\n",
    "- net_avg_tcp_tw_cnt',\n",
    "- net_IFACE',\n",
    "- net_avg_rxpck_s',\n",
    "- net_avg_txpck_s',\n",
    "- net_avg_rxkB_s',\n",
    "- net_avg_txkB_s',\n",
    "- net_avg_rxcmp_s',\n",
    "- net_avg_txcmp_s',\n",
    "- net_avg_rxmcst_s',\n",
    "- swp_avg_pswpin_s',\n",
    "- swp_avg_pswpout_s',\n",
    "- test_ScenarioDescription',\n",
    "- tag',\n",
    "- scn_buildNumber',\n",
    "- scn_jobName']"
   ]
  },
  {
   "cell_type": "code",
   "execution_count": 9,
   "metadata": {},
   "outputs": [
    {
     "data": {
      "text/html": [
       "<div>\n",
       "<style scoped>\n",
       "    .dataframe tbody tr th:only-of-type {\n",
       "        vertical-align: middle;\n",
       "    }\n",
       "\n",
       "    .dataframe tbody tr th {\n",
       "        vertical-align: top;\n",
       "    }\n",
       "\n",
       "    .dataframe thead th {\n",
       "        text-align: right;\n",
       "    }\n",
       "</style>\n",
       "<table border=\"1\" class=\"dataframe\">\n",
       "  <thead>\n",
       "    <tr style=\"text-align: right;\">\n",
       "      <th></th>\n",
       "      <th>test_TransactionName</th>\n",
       "      <th>test_max_virtualUsers</th>\n",
       "      <th>test_cnt_totalSamples</th>\n",
       "      <th>test_cnt_failedSamples</th>\n",
       "      <th>test_totalThroughput_TPS</th>\n",
       "      <th>test_successfulThroughput_TPS</th>\n",
       "      <th>test_MEAN_responseTime_ms</th>\n",
       "      <th>test_MAX_responseTime_ms</th>\n",
       "      <th>test_MEDIAN_responseTime_ms</th>\n",
       "      <th>test_avg_successfulResponseTime_ms</th>\n",
       "      <th>...</th>\n",
       "      <th>net_avg_txkB_s</th>\n",
       "      <th>net_avg_rxcmp_s</th>\n",
       "      <th>net_avg_txcmp_s</th>\n",
       "      <th>net_avg_rxmcst_s</th>\n",
       "      <th>swp_avg_pswpin_s</th>\n",
       "      <th>swp_avg_pswpout_s</th>\n",
       "      <th>test_ScenarioDescription</th>\n",
       "      <th>tag</th>\n",
       "      <th>scn_buildNumber</th>\n",
       "      <th>scn_jobName</th>\n",
       "    </tr>\n",
       "  </thead>\n",
       "  <tbody>\n",
       "    <tr>\n",
       "      <th>0</th>\n",
       "      <td>NaN</td>\n",
       "      <td>0</td>\n",
       "      <td>0</td>\n",
       "      <td>0</td>\n",
       "      <td>0</td>\n",
       "      <td>0</td>\n",
       "      <td>0.0</td>\n",
       "      <td>0</td>\n",
       "      <td>0.0</td>\n",
       "      <td>0.0</td>\n",
       "      <td>...</td>\n",
       "      <td>208.17</td>\n",
       "      <td>0</td>\n",
       "      <td>0</td>\n",
       "      <td>0.0</td>\n",
       "      <td>0.0</td>\n",
       "      <td>0.0</td>\n",
       "      <td>warmUp</td>\n",
       "      <td>NaN</td>\n",
       "      <td>194</td>\n",
       "      <td>Consultas-TimeSeries</td>\n",
       "    </tr>\n",
       "    <tr>\n",
       "      <th>1</th>\n",
       "      <td>NaN</td>\n",
       "      <td>0</td>\n",
       "      <td>0</td>\n",
       "      <td>0</td>\n",
       "      <td>0</td>\n",
       "      <td>0</td>\n",
       "      <td>0.0</td>\n",
       "      <td>0</td>\n",
       "      <td>0.0</td>\n",
       "      <td>0.0</td>\n",
       "      <td>...</td>\n",
       "      <td>2.82</td>\n",
       "      <td>0</td>\n",
       "      <td>0</td>\n",
       "      <td>0.0</td>\n",
       "      <td>0.0</td>\n",
       "      <td>0.0</td>\n",
       "      <td>warmUp</td>\n",
       "      <td>NaN</td>\n",
       "      <td>194</td>\n",
       "      <td>Consultas-TimeSeries</td>\n",
       "    </tr>\n",
       "    <tr>\n",
       "      <th>2</th>\n",
       "      <td>NaN</td>\n",
       "      <td>0</td>\n",
       "      <td>0</td>\n",
       "      <td>0</td>\n",
       "      <td>0</td>\n",
       "      <td>0</td>\n",
       "      <td>0.0</td>\n",
       "      <td>0</td>\n",
       "      <td>0.0</td>\n",
       "      <td>0.0</td>\n",
       "      <td>...</td>\n",
       "      <td>6.51</td>\n",
       "      <td>0</td>\n",
       "      <td>0</td>\n",
       "      <td>0.0</td>\n",
       "      <td>0.0</td>\n",
       "      <td>0.0</td>\n",
       "      <td>warmUp</td>\n",
       "      <td>NaN</td>\n",
       "      <td>194</td>\n",
       "      <td>Consultas-TimeSeries</td>\n",
       "    </tr>\n",
       "    <tr>\n",
       "      <th>3</th>\n",
       "      <td>NaN</td>\n",
       "      <td>0</td>\n",
       "      <td>0</td>\n",
       "      <td>0</td>\n",
       "      <td>0</td>\n",
       "      <td>0</td>\n",
       "      <td>0.0</td>\n",
       "      <td>0</td>\n",
       "      <td>0.0</td>\n",
       "      <td>0.0</td>\n",
       "      <td>...</td>\n",
       "      <td>0.34</td>\n",
       "      <td>0</td>\n",
       "      <td>0</td>\n",
       "      <td>0.0</td>\n",
       "      <td>0.0</td>\n",
       "      <td>0.0</td>\n",
       "      <td>warmUp</td>\n",
       "      <td>NaN</td>\n",
       "      <td>194</td>\n",
       "      <td>Consultas-TimeSeries</td>\n",
       "    </tr>\n",
       "    <tr>\n",
       "      <th>4</th>\n",
       "      <td>NaN</td>\n",
       "      <td>0</td>\n",
       "      <td>0</td>\n",
       "      <td>0</td>\n",
       "      <td>0</td>\n",
       "      <td>0</td>\n",
       "      <td>0.0</td>\n",
       "      <td>0</td>\n",
       "      <td>0.0</td>\n",
       "      <td>0.0</td>\n",
       "      <td>...</td>\n",
       "      <td>0.00</td>\n",
       "      <td>0</td>\n",
       "      <td>0</td>\n",
       "      <td>0.0</td>\n",
       "      <td>0.0</td>\n",
       "      <td>0.0</td>\n",
       "      <td>warmUp</td>\n",
       "      <td>NaN</td>\n",
       "      <td>194</td>\n",
       "      <td>Consultas-TimeSeries</td>\n",
       "    </tr>\n",
       "  </tbody>\n",
       "</table>\n",
       "<p>5 rows × 61 columns</p>\n",
       "</div>"
      ],
      "text/plain": [
       "  test_TransactionName  test_max_virtualUsers  test_cnt_totalSamples  \\\n",
       "0                  NaN                      0                      0   \n",
       "1                  NaN                      0                      0   \n",
       "2                  NaN                      0                      0   \n",
       "3                  NaN                      0                      0   \n",
       "4                  NaN                      0                      0   \n",
       "\n",
       "   test_cnt_failedSamples  test_totalThroughput_TPS  \\\n",
       "0                       0                         0   \n",
       "1                       0                         0   \n",
       "2                       0                         0   \n",
       "3                       0                         0   \n",
       "4                       0                         0   \n",
       "\n",
       "   test_successfulThroughput_TPS  test_MEAN_responseTime_ms  \\\n",
       "0                              0                        0.0   \n",
       "1                              0                        0.0   \n",
       "2                              0                        0.0   \n",
       "3                              0                        0.0   \n",
       "4                              0                        0.0   \n",
       "\n",
       "   test_MAX_responseTime_ms  test_MEDIAN_responseTime_ms  \\\n",
       "0                         0                          0.0   \n",
       "1                         0                          0.0   \n",
       "2                         0                          0.0   \n",
       "3                         0                          0.0   \n",
       "4                         0                          0.0   \n",
       "\n",
       "   test_avg_successfulResponseTime_ms  ...  net_avg_txkB_s  net_avg_rxcmp_s  \\\n",
       "0                                 0.0  ...          208.17                0   \n",
       "1                                 0.0  ...            2.82                0   \n",
       "2                                 0.0  ...            6.51                0   \n",
       "3                                 0.0  ...            0.34                0   \n",
       "4                                 0.0  ...            0.00                0   \n",
       "\n",
       "   net_avg_txcmp_s  net_avg_rxmcst_s  swp_avg_pswpin_s  swp_avg_pswpout_s  \\\n",
       "0                0               0.0               0.0                0.0   \n",
       "1                0               0.0               0.0                0.0   \n",
       "2                0               0.0               0.0                0.0   \n",
       "3                0               0.0               0.0                0.0   \n",
       "4                0               0.0               0.0                0.0   \n",
       "\n",
       "   test_ScenarioDescription  tag  scn_buildNumber           scn_jobName  \n",
       "0                    warmUp  NaN              194  Consultas-TimeSeries  \n",
       "1                    warmUp  NaN              194  Consultas-TimeSeries  \n",
       "2                    warmUp  NaN              194  Consultas-TimeSeries  \n",
       "3                    warmUp  NaN              194  Consultas-TimeSeries  \n",
       "4                    warmUp  NaN              194  Consultas-TimeSeries  \n",
       "\n",
       "[5 rows x 61 columns]"
      ]
     },
     "execution_count": 9,
     "metadata": {},
     "output_type": "execute_result"
    }
   ],
   "source": [
    "#obtener las primeras 5 filas\n",
    "data.head(5)"
   ]
  },
  {
   "cell_type": "code",
   "execution_count": 5,
   "metadata": {},
   "outputs": [
    {
     "data": {
      "text/plain": [
       "<matplotlib.axes._subplots.AxesSubplot at 0x7f18b786d160>"
      ]
     },
     "execution_count": 5,
     "metadata": {},
     "output_type": "execute_result"
    },
    {
     "data": {
      "image/png": "[encoded data removed]",
      "text/plain": [
       "<Figure size 432x288 with 1 Axes>"
      ]
     },
     "metadata": {},
     "output_type": "display_data"
    }
   ],
   "source": [
    "#Mostrar las gráficas embebidas dentro del notebook\n",
    "%matplotlib inline\n",
    "#graficar el histograma de una variable net_avg_txkB_s\n",
    "data['net_avg_txkB_s'].hist(color='green')"
   ]
  },
  {
   "cell_type": "code",
   "execution_count": 11,
   "metadata": {},
   "outputs": [
    {
     "data": {
      "text/plain": [
       "0    208.17\n",
       "1      2.82\n",
       "2      6.51\n",
       "3      0.34\n",
       "4      0.00\n",
       "Name: net_avg_txkB_s, dtype: float64"
      ]
     },
     "execution_count": 11,
     "metadata": {},
     "output_type": "execute_result"
    }
   ],
   "source": [
    "#extraer un campo en particular  para operar sobre el. \n",
    "data['net_avg_txkB_s'].head(5)"
   ]
  },
  {
   "cell_type": "markdown",
   "metadata": {},
   "source": [
    "## Trabajemos con los datos\n",
    "\n",
    "los principales módulos que Python nos ofrece para trabajar con probabilidad y estadística, son:\n",
    "\n",
    "* ***numpy***: El popular paquete matemático de Python, se utiliza tanto que mucha gente ya lo considera parte integral del lenguaje. Nos proporciona algunas funciones estadísticas que podemos aplicar fácilmente sobre los arrays de Numpy.\n",
    "\n",
    "* ***scipy.stats***: Este submodulo del paquete científico Scipy es el complemento perfecto para Numpy, las funciones estadisticas que no encontremos en uno, las podemos encontrar en el otro.\n",
    "\n",
    "* ***statsmodels***: Esta librería nos brinda un gran número de herramientas para explorar datos, estimar modelos estadísticos, realizar pruebas estadísticas y muchas cosas más.\n",
    "\n",
    "* ***matplotlib***: Es la librería más popular en Python para visualizaciones y gráficos. Ella nos va a permitir realizar los gráficos de las distintas distribuciones de datos.\n",
    "\n",
    "* ***seaborn***: Esta librería es un complemento ideal de matplotlib para realizar gráficos estadísticos.\n",
    "\n",
    "* ***pandas***: Esta es la librería más popular para análisis de datos y financieros. Posee algunas funciones muy útiles para realizar estadística descriptiva sobre nuestros datos y nos facilita sobremanera el trabajar con series de tiempo.\n",
    "\n",
    "* ***pyMC***: pyMC es un módulo de Python que implementa modelos estadísticos bayesianos, incluyendo la cadena de Markov Monte Carlo(MCMC). pyMC ofrece funcionalidades para hacer el análisis bayesiano lo mas simple posible.\n",
    "\n",
    "\n",
    "***Calcular las medidas de tendencia central ***"
   ]
  },
  {
   "cell_type": "code",
   "execution_count": 15,
   "metadata": {},
   "outputs": [
    {
     "name": "stdout",
     "output_type": "stream",
     "text": [
      "El promedio es 1333.0449491076972\n",
      "La media es 1523.52\n",
      "La moda es 0    0.0\n",
      "dtype: float64\n"
     ]
    },
    {
     "data": {
      "text/plain": [
       "count    111117.000000\n",
       "mean       1333.044949\n",
       "std        1015.704202\n",
       "min           0.000000\n",
       "25%         228.880000\n",
       "50%        1523.520000\n",
       "75%        2361.070000\n",
       "max        4619.170000\n",
       "Name: net_avg_txkB_s, dtype: float64"
      ]
     },
     "execution_count": 15,
     "metadata": {},
     "output_type": "execute_result"
    },
    {
     "name": "stdout",
     "output_type": "stream",
     "text": [
      "EL promedio con np es 1333.0449491076972\n",
      "La media con np es 1523.52\n",
      "La moda con np es ModeResult(mode=array([0.]), count=array([7612]))\n"
     ]
    }
   ],
   "source": [
    "\n",
    "from IPython.core.interactiveshell import InteractiveShell\n",
    "InteractiveShell.ast_node_interactivity = \"all\"\n",
    "\n",
    "#Calcular el promedio \n",
    "print(\"El promedio es {0}\".format(data['net_avg_txkB_s'].mean()))\n",
    "\n",
    "#Calcular la media \n",
    "print(\"La media es {0}\".format(data['net_avg_txkB_s'].median()))\n",
    "\n",
    "#Calcular la moda\n",
    "print(\"La moda es {0}\".format(data['net_avg_txkB_s'].mode()))\n",
    "\n",
    "#Calcular las estadísticas sobre un campo\n",
    "\n",
    "data['net_avg_txkB_s'].describe()\n",
    "\n",
    "## Ahora con numpy para calcular los mismos datos\n",
    "\n",
    "print(\"EL promedio con np es {0}\".format(np.mean(data['net_avg_txkB_s']))) \n",
    "\n",
    "print(\"La media con np es {0}\".format(np.median(data['net_avg_txkB_s']))) \n",
    "\n",
    "print(\"La moda con np es {0}\".format(stats.mode(data['net_avg_txkB_s'])))\n",
    "\n",
    "#"
   ]
  },
  {
   "cell_type": "code",
   "execution_count": 19,
   "metadata": {},
   "outputs": [
    {
     "data": {
      "text/plain": [
       "111117"
      ]
     },
     "execution_count": 19,
     "metadata": {},
     "output_type": "execute_result"
    }
   ],
   "source": [
    "data['net_avg_txkB_s'].count()"
   ]
  },
  {
   "cell_type": "markdown",
   "metadata": {},
   "source": [
    "## Histogramas y Distribuciones\n",
    "\n",
    "Muchas veces los indicadores de la *[estadística descriptiva](https://es.wikipedia.org/wiki/Estad%C3%ADstica_descriptiva)* no nos proporcionan una imagen clara de nuestros *[datos](https://es.wikipedia.org/wiki/Dato)*.  Por esta razón, siempre es útil complementarlos con gráficos de las distribuciones de los *[datos](https://es.wikipedia.org/wiki/Dato)*, que describan con qué frecuencia aparece cada valor. La representación más común de una distribución es un [histograma](https://es.wikipedia.org/wiki/Histograma), que es un gráfico que muestra la frecuencia o probabilidad de cada valor. El [histograma](https://es.wikipedia.org/wiki/Histograma) muestra las frecuencias como un gráfico de barras que indica cuan frecuente un determinado valor ocurre en el [conjunto de datos](https://es.wikipedia.org/wiki/Conjunto_de_datos). El eje horizontal representa los valores del [conjunto de datos](https://es.wikipedia.org/wiki/Conjunto_de_datos) y el eje vertical representa la frecuencia con que esos valores ocurren.\n",
    "\n",
    "Las distribuciones se pueden clasificar en dos grandes grupos:\n",
    "\n",
    "1. Las **[distribuciones continuas](https://es.wikipedia.org/wiki/Distribuci%C3%B3n_de_probabilidad_continua)**, que son aquellas que presentan un número infinito de posibles soluciones. Dentro de este grupo vamos a encontrar a las distribuciones: \n",
    "    * [normal](https://es.wikipedia.org/wiki/Distribuci%C3%B3n_normal),\n",
    "    * [gamma](https://es.wikipedia.org/wiki/Distribuci%C3%B3n_gamma),\n",
    "    * [chi cuadrado](https://es.wikipedia.org/wiki/Distribuci%C3%B3n_%CF%87%C2%B2), \n",
    "    * [t de Student](https://es.wikipedia.org/wiki/Distribuci%C3%B3n_t_de_Student), \n",
    "    * [pareto](https://es.wikipedia.org/wiki/Distribuci%C3%B3n_de_Pareto),\n",
    "    * entre otras\n",
    "\n",
    "2. Las **distribuciones discretas**, que son aquellas en las que la variable puede pude tomar un número determinado de valores. Los principales exponenetes de este grupo son las distribuciones: \n",
    "    * [poisson](https://es.wikipedia.org/wiki/Distribuci%C3%B3n_de_Poisson),\n",
    "    * [binomial](https://es.wikipedia.org/wiki/Distribuci%C3%B3n_binomial),\n",
    "    * [hipergeométrica](https://es.wikipedia.org/wiki/Distribuci%C3%B3n_hipergeom%C3%A9trica),\n",
    "    * [bernoulli](https://es.wikipedia.org/wiki/Distribuci%C3%B3n_de_Bernoulli)\n",
    "    * entre otras\n"
   ]
  },
  {
   "cell_type": "code",
   "execution_count": null,
   "metadata": {},
   "outputs": [],
   "source": [
    "import seaborn as sns # importando seaborn\n",
    "\n",
    "# parametros esteticos de seaborn\n",
    "sns.set_palette(\"deep\", desat=.6)\n",
    "sns.set_context(rc={\"figure.figsize\": (8, 4)})"
   ]
  }
 ],
 "metadata": {
  "kernelspec": {
   "display_name": "Python 3",
   "language": "python",
   "name": "python3"
  },
  "language_info": {
   "codemirror_mode": {
    "name": "ipython",
    "version": 3
   },
   "file_extension": ".py",
   "mimetype": "text/x-python",
   "name": "python",
   "nbconvert_exporter": "python",
   "pygments_lexer": "ipython3",
   "version": "3.6.7"
  }
 },
 "nbformat": 4,
 "nbformat_minor": 2
}
