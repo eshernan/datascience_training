{
 "cells": [
  {
   "cell_type": "markdown",
   "metadata": {},
   "source": [
    "# Ejercicios de análisis de datos cuantitativos con Python"
   ]
  },
  {
   "cell_type": "code",
   "execution_count": null,
   "metadata": {},
   "outputs": [],
   "source": [
    "#Importar todas las librerías requeridas.\n",
    "import numpy as np # importando numpy\n",
    "....\n",
    "\n",
    "#Mostrar las gráficas embebidas dentro del notebook\n",
    "%matplotlib inline\n"
   ]
  },
  {
   "cell_type": "markdown",
   "metadata": {},
   "source": [
    "### Actividades con el dataset provisto"
   ]
  },
  {
   "cell_type": "code",
   "execution_count": null,
   "metadata": {},
   "outputs": [],
   "source": [
    "# cargue el dataset localizado en ../data/datasemanaSanta-17-23April.csv\n",
    "perf_df = pd."
   ]
  },
  {
   "cell_type": "code",
   "execution_count": null,
   "metadata": {},
   "outputs": [],
   "source": [
    "# Listar los campos que tiene el dataset. \n",
    "list(perf_df)"
   ]
  },
  {
   "cell_type": "code",
   "execution_count": null,
   "metadata": {},
   "outputs": [],
   "source": [
    "#Extraer los siguientes campos.\n",
    "\n",
    "perf_df.head(10)"
   ]
  },
  {
   "cell_type": "markdown",
   "metadata": {
    "scrolled": true
   },
   "source": [
    "### Filtrar los siguiente campos:\n",
    "- cpu_avg_user_pct\n",
    "- test_MEAN_responseTime_ms\n",
    "- test_MAX_responseTime_ms\n",
    "- test_MEDIAN_responseTime_ms\n",
    "- scn_buildNumber\n",
    "- test_ScenarioDescription"
   ]
  },
  {
   "cell_type": "code",
   "execution_count": null,
   "metadata": {},
   "outputs": [],
   "source": [
    "#cree una copia del dataset con los datos filtrados\n",
    "filtered_df=perf_df."
   ]
  },
  {
   "cell_type": "code",
   "execution_count": null,
   "metadata": {},
   "outputs": [],
   "source": [
    "#Obtenga una muestra de 10.\n",
    "filtered_df.head(10)"
   ]
  },
  {
   "cell_type": "code",
   "execution_count": null,
   "metadata": {},
   "outputs": [],
   "source": [
    "#Generar los histogramas para cada uno de los features\n",
    "filtered_df.hist(figsize=(10,10))"
   ]
  },
  {
   "cell_type": "markdown",
   "metadata": {
    "scrolled": true
   },
   "source": [
    "# Analisis iniciales"
   ]
  },
  {
   "cell_type": "code",
   "execution_count": null,
   "metadata": {},
   "outputs": [],
   "source": [
    "#imprimir los valores nulos, los valores 0 y además el tiempo de calentamiento (warmUp)\n",
    "\n",
    "\n",
    "# Filtrar los valores nulos \n",
    "\n",
    "from IPython.core.interactiveshell import InteractiveShell\n",
    "InteractiveShell.ast_node_interactivity = \"all\"\n",
    "\n",
    "print('El tamaño del dataset es {0}'.format())\n",
    "print('El tamaño del dataset sin nulos es  es {0}'.format()\n",
    "print('El tamaño del dataset sin tiempo calentamiento es  es {0}'.\n",
    "      format(filtered_df.query(\"\").size))\n",
    "\n",
    "#La muestra  del dataset sin tiempo calentamiento es  es #\n",
    "filtered_df.query(\"test_ScenarioDescription != 'warmUp'\").xx(10)"
   ]
  },
  {
   "cell_type": "markdown",
   "metadata": {},
   "source": [
    "### Medidas de tendencia central"
   ]
  },
  {
   "cell_type": "code",
   "execution_count": null,
   "metadata": {},
   "outputs": [],
   "source": [
    "\n",
    "# calcular las medidas de tendencia central  para los siguientes campos \n",
    "# cpu_avg_user_pct\n",
    "\n",
    "from IPython.core.interactiveshell import InteractiveShell\n",
    "InteractiveShell.ast_node_interactivity = \"all\"\n",
    "\n",
    "\n",
    "filtered_df.query(\"test_ScenarioDescription != 'warmUp'\").\\\n",
    "   groupby('scn_buildNumber')['cpu_avg_user_pct']..().plot(kind='hist')\n",
    "    \n",
    "\n",
    "filtered_df.query(\"test_ScenarioDescription != 'warmUp'\").\\\n",
    "   groupby('scn_buildNumber')['cpu_avg_user_pct']..()\n",
    "\n",
    "#Calcular el promedio \n",
    "print(\"El promedio es {0}\".format(filtered_df['cpu_avg_user_pct']..()))\n",
    "\n",
    "#Calcular la media \n",
    "print(\"La media es {0}\".format(filtered_df['cpu_avg_user_pct']..()))\n",
    "\n",
    "#Calcular la moda\n",
    "print(\"La moda es {0}\".format(filtered_df['cpu_avg_user_pct']..()))\n",
    "\n",
    "#Calcular la varianza\n",
    "print(\"La varianza es {0}\".format(filtered_df['cpu_avg_user_pct']..()))\n",
    "\n",
    "\n",
    "#Calcular la desviación estándar. \n",
    "print(\"La desviación estándar es {0}\".format(filtered_df['cpu_avg_user_pct']..()))\n",
    "\n",
    "\n",
    "#Calcular la curtosis. \n",
    "print(\"La curtosis es {0}\".format(filtered_df['cpu_avg_user_pct']..()))\n",
    "\n",
    "print(\"La covarianza es\")\n",
    "filtered_df..()\n",
    "\n",
    "#Calcular las estadísticas sobre un campo\n",
    "print(\"estadísticas generales sobre un campo específico\")\n",
    "\n",
    "filtered_df['cpu_avg_user_pct']..()"
   ]
  },
  {
   "cell_type": "markdown",
   "metadata": {},
   "source": [
    "### Analisis de cuartiles"
   ]
  },
  {
   "cell_type": "code",
   "execution_count": null,
   "metadata": {},
   "outputs": [],
   "source": [
    "from IPython.core.interactiveshell import InteractiveShell\n",
    "InteractiveShell.ast_node_interactivity = \"all\"\n",
    "# plotee el Rango intercuartil  para los siguiente datos\n",
    "#cpu_avg_user_pct\n",
    "#\n",
    "#..\n",
    "print(filtered_df['xx'].quantile(0.75) - filtered_df['xx'].quantile(0.25) )\n",
    "boxplot = filtered_df.xx(column=['xx'])\n"
   ]
  },
  {
   "cell_type": "markdown",
   "metadata": {},
   "source": [
    "### Análisis de correlación "
   ]
  },
  {
   "cell_type": "code",
   "execution_count": null,
   "metadata": {},
   "outputs": [],
   "source": [
    "#indice de correlación pearson\n",
    "filtered_df.corr(method='xx')"
   ]
  },
  {
   "cell_type": "code",
   "execution_count": null,
   "metadata": {},
   "outputs": [],
   "source": [
    "#indice ´ de correlación Spearman\n",
    "filtered_df.corr(method='xx')"
   ]
  },
  {
   "cell_type": "code",
   "execution_count": null,
   "metadata": {},
   "outputs": [],
   "source": [
    "#indice ´ de correlación kendall\n",
    "filtered_df.corr(method='xx')"
   ]
  },
  {
   "cell_type": "code",
   "execution_count": null,
   "metadata": {},
   "outputs": [],
   "source": [
    "#HeadMap Para los valores de correlaciónm del dataframe\n",
    "import matplotlib.pyplot as plt #\n",
    "f, ax = plt.subplots(figsize=(10, 8)) \n",
    "corr = filtered_df.corr() \n",
    "sns.heatmap(corr, mask=np.zeros_like(corr, dtype=np.bool), cmap=sns.diverging_palette(220, 10, as_cmap=True), \n",
    "      square=True, ax=ax) "
   ]
  },
  {
   "cell_type": "markdown",
   "metadata": {},
   "source": [
    "## Analisis de valores irregulares  e intervalos de confianza"
   ]
  },
  {
   "cell_type": "code",
   "execution_count": null,
   "metadata": {},
   "outputs": [],
   "source": [
    "import seaborn as sns\n",
    "\n",
    "perf_df.boxplot(column=['test_max_virtualUsers'], grid=False)"
   ]
  },
  {
   "cell_type": "code",
   "execution_count": null,
   "metadata": {},
   "outputs": [],
   "source": [
    "perf_df.boxplot(column=['cpu_avg_user_pct'], grid=False)"
   ]
  },
  {
   "cell_type": "code",
   "execution_count": null,
   "metadata": {},
   "outputs": [],
   "source": [
    "from seaborn import boxplot\n",
    "boxplot(perf_df.test_max_virtualUsers)"
   ]
  },
  {
   "cell_type": "code",
   "execution_count": null,
   "metadata": {},
   "outputs": [],
   "source": [
    "from seaborn import boxplot\n",
    "boxplot(perf_df.cpu_avg_user_pct)"
   ]
  },
  {
   "cell_type": "code",
   "execution_count": null,
   "metadata": {},
   "outputs": [],
   "source": [
    "import matplotlib.pyplot as plt # importando matplotlib\n",
    "fig, ax = plt.subplots(figsize=(16,8))\n",
    "ax.scatter(perf_df['test_max_virtualUsers'], perf_df['cpu_avg_user_pct'])\n",
    "ax.set_xlabel('Session user on the system')\n",
    "ax.set_ylabel('%CPU use')\n",
    "plt.show()"
   ]
  },
  {
   "cell_type": "code",
   "execution_count": null,
   "metadata": {},
   "outputs": [],
   "source": [
    "from seaborn import lmplot\n",
    "lmplot('test_max_virtualUsers', 'cpu_avg_user_pct', data=perf_df, fit_reg=False,  ci=95)\n",
    "\n"
   ]
  },
  {
   "cell_type": "code",
   "execution_count": null,
   "metadata": {},
   "outputs": [],
   "source": [
    "import numpy as np, scipy.stats as st\n",
    "\n",
    "st.t.interval(0.95, len(perf_df['test_max_virtualUsers'])-1, loc=np.mean(perf_df['test_max_virtualUsers']), scale=st.sem(perf_df['test_max_virtualUsers']))\n"
   ]
  },
  {
   "cell_type": "code",
   "execution_count": null,
   "metadata": {},
   "outputs": [],
   "source": [
    "from seaborn import distplot\n",
    "distplot(perf_df.test_max_virtualUsers)\n"
   ]
  },
  {
   "cell_type": "code",
   "execution_count": null,
   "metadata": {},
   "outputs": [],
   "source": [
    "### graficar los intervalos de confianza\n",
    "\n",
    "from seaborn import regplot\n",
    "sns.set(rc={'figure.figsize':(12.7,10.27)})\n",
    "regplot(y=perf_df['test_max_virtualUsers'], x=perf_df['scn_buildNumber'], color=\"g\", ci=95,x_bins=10)"
   ]
  },
  {
   "cell_type": "code",
   "execution_count": null,
   "metadata": {},
   "outputs": [],
   "source": [
    "confidence_df = \\\n",
    "   perf_df[((perf_df.test_max_virtualUsers - \n",
    "            perf_df.test_max_virtualUsers.mean()) / \n",
    "            perf_df.test_max_virtualUsers.std()).abs() < 3]\n",
    "confidence_df['test_max_virtualUsers'].plot(kind='hist',figsize=(8,5))"
   ]
  },
  {
   "cell_type": "code",
   "execution_count": null,
   "metadata": {},
   "outputs": [],
   "source": [
    "perf_df['test_max_virtualUsers'].plot(kind='hist',figsize=(8,5),cmap='cividis')"
   ]
  },
  {
   "cell_type": "code",
   "execution_count": null,
   "metadata": {},
   "outputs": [],
   "source": [
    "from seaborn import boxplot\n",
    "sns.set(rc={'figure.figsize':(7,5)})\n",
    "boxplot(confidence_df.test_max_virtualUsers)"
   ]
  }
 ],
 "metadata": {
  "kernelspec": {
   "display_name": "Python 3",
   "language": "python",
   "name": "python3"
  },
  "language_info": {
   "codemirror_mode": {
    "name": "ipython",
    "version": 3
   },
   "file_extension": ".py",
   "mimetype": "text/x-python",
   "name": "python",
   "nbconvert_exporter": "python",
   "pygments_lexer": "ipython3",
   "version": "3.6.7"
  }
 },
 "nbformat": 4,
 "nbformat_minor": 2
}
