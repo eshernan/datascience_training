{
 "cells": [
  {
   "cell_type": "markdown",
   "metadata": {},
   "source": [
    "### Regresiones Lineales y  Logísticas\n",
    "\n",
    "## Regresiones Lineales y  Logísticas\n",
    "\n",
    "Cuando se quiere evaluar la **relación entre una variable que suscita especial interés** (variable dependiente que suele denominarse Y) respecto a un conjunto de variables (variables independientes, que se denominan X1, X2, …, Xn) las pruebas de contraste de hipótesis mostradas hasta ahora no nos aportan suficiente información sobre la relación en conjunto de todas ellas, dado que los contrastes de hipótesis que conocemos hasta ahora se basan en probar relaciones bivariantes (2 variables), en las que no se tiene en cuenta la posibilidad de que haya otras variables de interés y en las que el sentido de la relación es bidireccional. Es entonces cuando resulta adecuado y conveniente la aplicación de los modelos de regresión. Los modelos de regresión permiten evaluar la relación entre una variable (dependiente) respecto a otras variables en conjunto (independientes). Los modelos re regresión se expresan de la siguiente forma:\n",
    "\n",
    "$Y=f(x1, x2, …)+\\epsilon$\n",
    "\n",
    "El objetivo principal de construir un modelo de regresión puede ser, por ejemplo, evaluar cómo afecta el cambio en unas características determinadas (variables independientes) sobre otra característica en concreto (variable dependiente), denominado modelo con fines explicativos; o también nuestro objetivo podría ser intentar estimar o aproximar el valor de una característica (variable dependiente) en función de los valores que pueden tomar en conjunto otra serie de características (variables independientes), denominado entonces modelo con fines predictivos.\n",
    "\n",
    "Existen varias opciones para estimar un modelo de regresión, de entre los que destacan por su facilidad de aplicación e interpretación, el modelo de regresión lineal y el modelo de regresión logística. Teniendo encuenta el tipo de variable que deseemos estimar (variable dependiente o respuesta) aplicaremos un modelo de regresión u otro. Simplificando, cuando la variable dependiente es una variable continua, el modelo de regresión más frecuentemente utilizado es la regresión lineal, mientras que cuando la variable de interés es dicotómica (es decir, toma dos valores como sí/no, hombre/mujer) se utiliza la regresión logística.\n",
    "\n",
    "Otro tipo de modelos de regresión utilizados, aunque no tan frecuentemente, son la regresión no lineal o la regresión ordinal que estiman una serie de modelos matemáticos que pueden ajustarse mejor que un modelo lineal."
   ]
  },
  {
   "cell_type": "markdown",
   "metadata": {},
   "source": [
    "## Condiciones de aplicabilidad\n",
    "La regresión logística y los modelos de regresión lineal no pueden ser aplicados sobre cualquier tipo de variable. Por ejemplo, la regresión lineal no es aplicable cuando la variable de interés es categórica, dado que al estimar el modelo de regresión no se respeta la restricción de que los valores de la variable dependiente oscilan entre una serie de valores que son los permitidos o reales, siendo el resto de valores imposibles. Es por eso que resulta más conveniente utilizar en ese caso el modelo de regresión logística. Sin embargo, ambos modelos de regresión se construyen aplicando modelos matemáticos similares. Al aplicar un modelo de regresión logística, en lugar de construir un modelo de regresión para estimar los valores reales de la variable de interés, se construye una función basada en el cálculo de la probabilidad de que la variable de interés adopte el valor del evento previamente definido, de la manera siguiente:\n",
    "\n",
    "<center> $ \\large Y = ln (\\frac {p }{1-p})$ </center> <br>\n",
    "\n",
    "De forma que la nueva variable dependiente construida que vamos a estimar sí puede tomar cualquier valor (no está restringida a un rango de valores) y podemos recurrir a los métodos de estimación de los modelos de regresión tradicionales para construir el modelo de regresión logística.\n",
    "\n",
    "Para entender en qué consiste un modelo de regresión así como para interpretar correctamente los resultados debemos relacionar dos conceptos: **el coeficiente de correlación** y el **análisis de la varianza**. Se puede demostrar que existe una relación entre el coeficiente de correlación (r) y el análisis de la varianza de la regresión, de tal forma que el cuadrado de r, llamado coeficiente de determinación, multiplicado por 100 se interpreta como el porcentaje de la varianza de la variable dependiente que queda explicada por el modelo de regresión."
   ]
  }
 ],
 "metadata": {
  "kernelspec": {
   "display_name": "Python 3",
   "language": "python",
   "name": "python3"
  },
  "language_info": {
   "codemirror_mode": {
    "name": "ipython",
    "version": 3
   },
   "file_extension": ".py",
   "mimetype": "text/x-python",
   "name": "python",
   "nbconvert_exporter": "python",
   "pygments_lexer": "ipython3",
   "version": "3.7.3"
  }
 },
 "nbformat": 4,
 "nbformat_minor": 2
}
