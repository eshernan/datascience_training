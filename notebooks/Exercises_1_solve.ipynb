{
 "cells": [
  {
   "cell_type": "markdown",
   "metadata": {},
   "source": [
    "# Análisis de datos cuantitativos con Python"
   ]
  },
  {
   "cell_type": "code",
   "execution_count": null,
   "metadata": {},
   "outputs": [],
   "source": []
  },
  {
   "cell_type": "code",
   "execution_count": 4,
   "metadata": {},
   "outputs": [],
   "source": [
    "#Importar todas las librerías requeridas.\n",
    "import numpy as np # importando numpy\n",
    "from scipy import stats # importando scipy.stats\n",
    "import pandas as pd # importando pandas\n",
    "import matplotlib as mp #importando matplotlib\n",
    "from scipy import stats\n",
    "import seaborn as sns \n",
    "#Mostrar las gráficas embebidas dentro del notebook\n",
    "%matplotlib inline\n"
   ]
  },
  {
   "cell_type": "markdown",
   "metadata": {},
   "source": [
    "### Actividades con el dataset provisto"
   ]
  },
  {
   "cell_type": "code",
   "execution_count": 5,
   "metadata": {},
   "outputs": [],
   "source": [
    "perf_df = pd.read_csv('../data/datasemanaSanta-17-23April.csv')"
   ]
  },
  {
   "cell_type": "code",
   "execution_count": 6,
   "metadata": {},
   "outputs": [
    {
     "data": {
      "text/plain": [
       "['test_TransactionName',\n",
       " 'test_max_virtualUsers',\n",
       " 'test_cnt_totalSamples',\n",
       " 'test_cnt_failedSamples',\n",
       " 'test_totalThroughput_TPS',\n",
       " 'test_successfulThroughput_TPS',\n",
       " 'test_MEAN_responseTime_ms',\n",
       " 'test_MAX_responseTime_ms',\n",
       " 'test_MEDIAN_responseTime_ms',\n",
       " 'test_avg_successfulResponseTime_ms',\n",
       " 'cpu_avg_user_pct',\n",
       " 'cpu_avg_nice_pct',\n",
       " 'cpu_avg_sys_pct',\n",
       " 'cpu_avg_iowait_pct',\n",
       " 'cpu_avg_steal_pct',\n",
       " 'cpu_avg_irq_pct',\n",
       " 'cpu_avg_soft_pct',\n",
       " 'cpu_avg_guest_pct',\n",
       " 'cpu_avg_gnice_pct',\n",
       " 'cpu_avg_idle_pct',\n",
       " 'pag_avg_pgpgin_s',\n",
       " 'pag_avg_pgpgout_s',\n",
       " 'pag_avg_fault_s',\n",
       " 'pag_avg_majflt_s',\n",
       " 'pag_avg_pgfree_s',\n",
       " 'pag_avg_pgscank_s',\n",
       " 'pag_avg_pgscand_s',\n",
       " 'pag_avg_pgsteal_s',\n",
       " 'pag_avg_vmeff_pct',\n",
       " 'mem_avg_memfree_KB',\n",
       " 'mem_avg_memused_KB',\n",
       " 'mem_avg_memused_pct',\n",
       " 'mem_avg_buffers_KB',\n",
       " 'mem_avg_cached_KB',\n",
       " 'mem_avg_commit_KB',\n",
       " 'mem_avg_commit_pct',\n",
       " 'mem_avg_active_KB',\n",
       " 'mem_avg_inact_KB',\n",
       " 'mem_avg_dirty_KB',\n",
       " 'system_avg_proc_s',\n",
       " 'system_avg_cswch_s',\n",
       " 'net_avg_totsck_cnt',\n",
       " 'net_avg_tcpsck_cnt',\n",
       " 'net_avg_udpsck_cnt',\n",
       " 'net_avg_rawsck_cnt',\n",
       " 'net_avg_ip_frag_cnt',\n",
       " 'net_avg_tcp_tw_cnt',\n",
       " 'net_IFACE',\n",
       " 'net_avg_rxpck_s',\n",
       " 'net_avg_txpck_s',\n",
       " 'net_avg_rxkB_s',\n",
       " 'net_avg_txkB_s',\n",
       " 'net_avg_rxcmp_s',\n",
       " 'net_avg_txcmp_s',\n",
       " 'net_avg_rxmcst_s',\n",
       " 'swp_avg_pswpin_s',\n",
       " 'swp_avg_pswpout_s',\n",
       " 'test_ScenarioDescription',\n",
       " 'tag',\n",
       " 'scn_buildNumber',\n",
       " 'scn_jobName']"
      ]
     },
     "execution_count": 6,
     "metadata": {},
     "output_type": "execute_result"
    }
   ],
   "source": [
    "# Listar los campos que tiene el dataset. \n",
    "list(perf_df)"
   ]
  },
  {
   "cell_type": "code",
   "execution_count": 7,
   "metadata": {},
   "outputs": [
    {
     "data": {
      "text/html": [
       "<div>\n",
       "<style scoped>\n",
       "    .dataframe tbody tr th:only-of-type {\n",
       "        vertical-align: middle;\n",
       "    }\n",
       "\n",
       "    .dataframe tbody tr th {\n",
       "        vertical-align: top;\n",
       "    }\n",
       "\n",
       "    .dataframe thead th {\n",
       "        text-align: right;\n",
       "    }\n",
       "</style>\n",
       "<table border=\"1\" class=\"dataframe\">\n",
       "  <thead>\n",
       "    <tr style=\"text-align: right;\">\n",
       "      <th></th>\n",
       "      <th>test_TransactionName</th>\n",
       "      <th>test_max_virtualUsers</th>\n",
       "      <th>test_cnt_totalSamples</th>\n",
       "      <th>test_cnt_failedSamples</th>\n",
       "      <th>test_totalThroughput_TPS</th>\n",
       "      <th>test_successfulThroughput_TPS</th>\n",
       "      <th>test_MEAN_responseTime_ms</th>\n",
       "      <th>test_MAX_responseTime_ms</th>\n",
       "      <th>test_MEDIAN_responseTime_ms</th>\n",
       "      <th>test_avg_successfulResponseTime_ms</th>\n",
       "      <th>...</th>\n",
       "      <th>net_avg_txkB_s</th>\n",
       "      <th>net_avg_rxcmp_s</th>\n",
       "      <th>net_avg_txcmp_s</th>\n",
       "      <th>net_avg_rxmcst_s</th>\n",
       "      <th>swp_avg_pswpin_s</th>\n",
       "      <th>swp_avg_pswpout_s</th>\n",
       "      <th>test_ScenarioDescription</th>\n",
       "      <th>tag</th>\n",
       "      <th>scn_buildNumber</th>\n",
       "      <th>scn_jobName</th>\n",
       "    </tr>\n",
       "  </thead>\n",
       "  <tbody>\n",
       "    <tr>\n",
       "      <th>0</th>\n",
       "      <td>NaN</td>\n",
       "      <td>0</td>\n",
       "      <td>0</td>\n",
       "      <td>0</td>\n",
       "      <td>0</td>\n",
       "      <td>0</td>\n",
       "      <td>0.0</td>\n",
       "      <td>0</td>\n",
       "      <td>0.0</td>\n",
       "      <td>0.0</td>\n",
       "      <td>...</td>\n",
       "      <td>208.17</td>\n",
       "      <td>0</td>\n",
       "      <td>0</td>\n",
       "      <td>0.0</td>\n",
       "      <td>0.0</td>\n",
       "      <td>0.0</td>\n",
       "      <td>warmUp</td>\n",
       "      <td>NaN</td>\n",
       "      <td>194</td>\n",
       "      <td>Consultas-TimeSeries</td>\n",
       "    </tr>\n",
       "    <tr>\n",
       "      <th>1</th>\n",
       "      <td>NaN</td>\n",
       "      <td>0</td>\n",
       "      <td>0</td>\n",
       "      <td>0</td>\n",
       "      <td>0</td>\n",
       "      <td>0</td>\n",
       "      <td>0.0</td>\n",
       "      <td>0</td>\n",
       "      <td>0.0</td>\n",
       "      <td>0.0</td>\n",
       "      <td>...</td>\n",
       "      <td>2.82</td>\n",
       "      <td>0</td>\n",
       "      <td>0</td>\n",
       "      <td>0.0</td>\n",
       "      <td>0.0</td>\n",
       "      <td>0.0</td>\n",
       "      <td>warmUp</td>\n",
       "      <td>NaN</td>\n",
       "      <td>194</td>\n",
       "      <td>Consultas-TimeSeries</td>\n",
       "    </tr>\n",
       "    <tr>\n",
       "      <th>2</th>\n",
       "      <td>NaN</td>\n",
       "      <td>0</td>\n",
       "      <td>0</td>\n",
       "      <td>0</td>\n",
       "      <td>0</td>\n",
       "      <td>0</td>\n",
       "      <td>0.0</td>\n",
       "      <td>0</td>\n",
       "      <td>0.0</td>\n",
       "      <td>0.0</td>\n",
       "      <td>...</td>\n",
       "      <td>6.51</td>\n",
       "      <td>0</td>\n",
       "      <td>0</td>\n",
       "      <td>0.0</td>\n",
       "      <td>0.0</td>\n",
       "      <td>0.0</td>\n",
       "      <td>warmUp</td>\n",
       "      <td>NaN</td>\n",
       "      <td>194</td>\n",
       "      <td>Consultas-TimeSeries</td>\n",
       "    </tr>\n",
       "    <tr>\n",
       "      <th>3</th>\n",
       "      <td>NaN</td>\n",
       "      <td>0</td>\n",
       "      <td>0</td>\n",
       "      <td>0</td>\n",
       "      <td>0</td>\n",
       "      <td>0</td>\n",
       "      <td>0.0</td>\n",
       "      <td>0</td>\n",
       "      <td>0.0</td>\n",
       "      <td>0.0</td>\n",
       "      <td>...</td>\n",
       "      <td>0.34</td>\n",
       "      <td>0</td>\n",
       "      <td>0</td>\n",
       "      <td>0.0</td>\n",
       "      <td>0.0</td>\n",
       "      <td>0.0</td>\n",
       "      <td>warmUp</td>\n",
       "      <td>NaN</td>\n",
       "      <td>194</td>\n",
       "      <td>Consultas-TimeSeries</td>\n",
       "    </tr>\n",
       "    <tr>\n",
       "      <th>4</th>\n",
       "      <td>NaN</td>\n",
       "      <td>0</td>\n",
       "      <td>0</td>\n",
       "      <td>0</td>\n",
       "      <td>0</td>\n",
       "      <td>0</td>\n",
       "      <td>0.0</td>\n",
       "      <td>0</td>\n",
       "      <td>0.0</td>\n",
       "      <td>0.0</td>\n",
       "      <td>...</td>\n",
       "      <td>0.00</td>\n",
       "      <td>0</td>\n",
       "      <td>0</td>\n",
       "      <td>0.0</td>\n",
       "      <td>0.0</td>\n",
       "      <td>0.0</td>\n",
       "      <td>warmUp</td>\n",
       "      <td>NaN</td>\n",
       "      <td>194</td>\n",
       "      <td>Consultas-TimeSeries</td>\n",
       "    </tr>\n",
       "    <tr>\n",
       "      <th>5</th>\n",
       "      <td>NaN</td>\n",
       "      <td>0</td>\n",
       "      <td>0</td>\n",
       "      <td>0</td>\n",
       "      <td>0</td>\n",
       "      <td>0</td>\n",
       "      <td>0.0</td>\n",
       "      <td>0</td>\n",
       "      <td>0.0</td>\n",
       "      <td>0.0</td>\n",
       "      <td>...</td>\n",
       "      <td>84.83</td>\n",
       "      <td>0</td>\n",
       "      <td>0</td>\n",
       "      <td>0.0</td>\n",
       "      <td>0.0</td>\n",
       "      <td>0.0</td>\n",
       "      <td>warmUp</td>\n",
       "      <td>NaN</td>\n",
       "      <td>194</td>\n",
       "      <td>Consultas-TimeSeries</td>\n",
       "    </tr>\n",
       "    <tr>\n",
       "      <th>6</th>\n",
       "      <td>NaN</td>\n",
       "      <td>0</td>\n",
       "      <td>0</td>\n",
       "      <td>0</td>\n",
       "      <td>0</td>\n",
       "      <td>0</td>\n",
       "      <td>0.0</td>\n",
       "      <td>0</td>\n",
       "      <td>0.0</td>\n",
       "      <td>0.0</td>\n",
       "      <td>...</td>\n",
       "      <td>185.08</td>\n",
       "      <td>0</td>\n",
       "      <td>0</td>\n",
       "      <td>0.0</td>\n",
       "      <td>0.0</td>\n",
       "      <td>0.0</td>\n",
       "      <td>warmUp</td>\n",
       "      <td>NaN</td>\n",
       "      <td>194</td>\n",
       "      <td>Consultas-TimeSeries</td>\n",
       "    </tr>\n",
       "    <tr>\n",
       "      <th>7</th>\n",
       "      <td>NaN</td>\n",
       "      <td>0</td>\n",
       "      <td>0</td>\n",
       "      <td>0</td>\n",
       "      <td>0</td>\n",
       "      <td>0</td>\n",
       "      <td>0.0</td>\n",
       "      <td>0</td>\n",
       "      <td>0.0</td>\n",
       "      <td>0.0</td>\n",
       "      <td>...</td>\n",
       "      <td>222.81</td>\n",
       "      <td>0</td>\n",
       "      <td>0</td>\n",
       "      <td>0.0</td>\n",
       "      <td>0.0</td>\n",
       "      <td>0.0</td>\n",
       "      <td>warmUp</td>\n",
       "      <td>NaN</td>\n",
       "      <td>194</td>\n",
       "      <td>Consultas-TimeSeries</td>\n",
       "    </tr>\n",
       "    <tr>\n",
       "      <th>8</th>\n",
       "      <td>NaN</td>\n",
       "      <td>0</td>\n",
       "      <td>0</td>\n",
       "      <td>0</td>\n",
       "      <td>0</td>\n",
       "      <td>0</td>\n",
       "      <td>0.0</td>\n",
       "      <td>0</td>\n",
       "      <td>0.0</td>\n",
       "      <td>0.0</td>\n",
       "      <td>...</td>\n",
       "      <td>227.71</td>\n",
       "      <td>0</td>\n",
       "      <td>0</td>\n",
       "      <td>0.0</td>\n",
       "      <td>0.0</td>\n",
       "      <td>0.0</td>\n",
       "      <td>warmUp</td>\n",
       "      <td>NaN</td>\n",
       "      <td>194</td>\n",
       "      <td>Consultas-TimeSeries</td>\n",
       "    </tr>\n",
       "    <tr>\n",
       "      <th>9</th>\n",
       "      <td>NaN</td>\n",
       "      <td>0</td>\n",
       "      <td>0</td>\n",
       "      <td>0</td>\n",
       "      <td>0</td>\n",
       "      <td>0</td>\n",
       "      <td>0.0</td>\n",
       "      <td>0</td>\n",
       "      <td>0.0</td>\n",
       "      <td>0.0</td>\n",
       "      <td>...</td>\n",
       "      <td>225.16</td>\n",
       "      <td>0</td>\n",
       "      <td>0</td>\n",
       "      <td>0.0</td>\n",
       "      <td>0.0</td>\n",
       "      <td>0.0</td>\n",
       "      <td>warmUp</td>\n",
       "      <td>NaN</td>\n",
       "      <td>194</td>\n",
       "      <td>Consultas-TimeSeries</td>\n",
       "    </tr>\n",
       "  </tbody>\n",
       "</table>\n",
       "<p>10 rows × 61 columns</p>\n",
       "</div>"
      ],
      "text/plain": [
       "  test_TransactionName  test_max_virtualUsers  test_cnt_totalSamples  \\\n",
       "0                  NaN                      0                      0   \n",
       "1                  NaN                      0                      0   \n",
       "2                  NaN                      0                      0   \n",
       "3                  NaN                      0                      0   \n",
       "4                  NaN                      0                      0   \n",
       "5                  NaN                      0                      0   \n",
       "6                  NaN                      0                      0   \n",
       "7                  NaN                      0                      0   \n",
       "8                  NaN                      0                      0   \n",
       "9                  NaN                      0                      0   \n",
       "\n",
       "   test_cnt_failedSamples  test_totalThroughput_TPS  \\\n",
       "0                       0                         0   \n",
       "1                       0                         0   \n",
       "2                       0                         0   \n",
       "3                       0                         0   \n",
       "4                       0                         0   \n",
       "5                       0                         0   \n",
       "6                       0                         0   \n",
       "7                       0                         0   \n",
       "8                       0                         0   \n",
       "9                       0                         0   \n",
       "\n",
       "   test_successfulThroughput_TPS  test_MEAN_responseTime_ms  \\\n",
       "0                              0                        0.0   \n",
       "1                              0                        0.0   \n",
       "2                              0                        0.0   \n",
       "3                              0                        0.0   \n",
       "4                              0                        0.0   \n",
       "5                              0                        0.0   \n",
       "6                              0                        0.0   \n",
       "7                              0                        0.0   \n",
       "8                              0                        0.0   \n",
       "9                              0                        0.0   \n",
       "\n",
       "   test_MAX_responseTime_ms  test_MEDIAN_responseTime_ms  \\\n",
       "0                         0                          0.0   \n",
       "1                         0                          0.0   \n",
       "2                         0                          0.0   \n",
       "3                         0                          0.0   \n",
       "4                         0                          0.0   \n",
       "5                         0                          0.0   \n",
       "6                         0                          0.0   \n",
       "7                         0                          0.0   \n",
       "8                         0                          0.0   \n",
       "9                         0                          0.0   \n",
       "\n",
       "   test_avg_successfulResponseTime_ms  ...  net_avg_txkB_s  net_avg_rxcmp_s  \\\n",
       "0                                 0.0  ...          208.17                0   \n",
       "1                                 0.0  ...            2.82                0   \n",
       "2                                 0.0  ...            6.51                0   \n",
       "3                                 0.0  ...            0.34                0   \n",
       "4                                 0.0  ...            0.00                0   \n",
       "5                                 0.0  ...           84.83                0   \n",
       "6                                 0.0  ...          185.08                0   \n",
       "7                                 0.0  ...          222.81                0   \n",
       "8                                 0.0  ...          227.71                0   \n",
       "9                                 0.0  ...          225.16                0   \n",
       "\n",
       "   net_avg_txcmp_s  net_avg_rxmcst_s  swp_avg_pswpin_s  swp_avg_pswpout_s  \\\n",
       "0                0               0.0               0.0                0.0   \n",
       "1                0               0.0               0.0                0.0   \n",
       "2                0               0.0               0.0                0.0   \n",
       "3                0               0.0               0.0                0.0   \n",
       "4                0               0.0               0.0                0.0   \n",
       "5                0               0.0               0.0                0.0   \n",
       "6                0               0.0               0.0                0.0   \n",
       "7                0               0.0               0.0                0.0   \n",
       "8                0               0.0               0.0                0.0   \n",
       "9                0               0.0               0.0                0.0   \n",
       "\n",
       "   test_ScenarioDescription  tag  scn_buildNumber           scn_jobName  \n",
       "0                    warmUp  NaN              194  Consultas-TimeSeries  \n",
       "1                    warmUp  NaN              194  Consultas-TimeSeries  \n",
       "2                    warmUp  NaN              194  Consultas-TimeSeries  \n",
       "3                    warmUp  NaN              194  Consultas-TimeSeries  \n",
       "4                    warmUp  NaN              194  Consultas-TimeSeries  \n",
       "5                    warmUp  NaN              194  Consultas-TimeSeries  \n",
       "6                    warmUp  NaN              194  Consultas-TimeSeries  \n",
       "7                    warmUp  NaN              194  Consultas-TimeSeries  \n",
       "8                    warmUp  NaN              194  Consultas-TimeSeries  \n",
       "9                    warmUp  NaN              194  Consultas-TimeSeries  \n",
       "\n",
       "[10 rows x 61 columns]"
      ]
     },
     "execution_count": 7,
     "metadata": {},
     "output_type": "execute_result"
    }
   ],
   "source": [
    "#Extraer los siguientes campos.\n",
    "\n",
    "perf_df.head(10)"
   ]
  },
  {
   "cell_type": "markdown",
   "metadata": {
    "scrolled": true
   },
   "source": [
    "### Filtrar los siguiente campos:\n",
    "- cpu_avg_user_pct\n",
    "- test_MEAN_responseTime_ms\n",
    "- test_MAX_responseTime_ms\n",
    "- test_MEDIAN_responseTime_ms\n",
    "- scn_buildNumber\n",
    "- test_ScenarioDescription"
   ]
  },
  {
   "cell_type": "code",
   "execution_count": 8,
   "metadata": {},
   "outputs": [],
   "source": [
    "filtered_df=perf_df.filter(['cpu_avg_user_pct',\n",
    "                'test_MEAN_responseTime_ms','test_MAX_responseTime_ms',\n",
    "                'test_ScenarioDescription','scn_buildNumber'])"
   ]
  },
  {
   "cell_type": "code",
   "execution_count": 9,
   "metadata": {},
   "outputs": [
    {
     "data": {
      "text/html": [
       "<div>\n",
       "<style scoped>\n",
       "    .dataframe tbody tr th:only-of-type {\n",
       "        vertical-align: middle;\n",
       "    }\n",
       "\n",
       "    .dataframe tbody tr th {\n",
       "        vertical-align: top;\n",
       "    }\n",
       "\n",
       "    .dataframe thead th {\n",
       "        text-align: right;\n",
       "    }\n",
       "</style>\n",
       "<table border=\"1\" class=\"dataframe\">\n",
       "  <thead>\n",
       "    <tr style=\"text-align: right;\">\n",
       "      <th></th>\n",
       "      <th>cpu_avg_user_pct</th>\n",
       "      <th>test_MEAN_responseTime_ms</th>\n",
       "      <th>test_MAX_responseTime_ms</th>\n",
       "      <th>test_ScenarioDescription</th>\n",
       "      <th>scn_buildNumber</th>\n",
       "    </tr>\n",
       "  </thead>\n",
       "  <tbody>\n",
       "    <tr>\n",
       "      <th>0</th>\n",
       "      <td>2.77</td>\n",
       "      <td>0.0</td>\n",
       "      <td>0</td>\n",
       "      <td>warmUp</td>\n",
       "      <td>194</td>\n",
       "    </tr>\n",
       "    <tr>\n",
       "      <th>1</th>\n",
       "      <td>0.25</td>\n",
       "      <td>0.0</td>\n",
       "      <td>0</td>\n",
       "      <td>warmUp</td>\n",
       "      <td>194</td>\n",
       "    </tr>\n",
       "    <tr>\n",
       "      <th>2</th>\n",
       "      <td>0.50</td>\n",
       "      <td>0.0</td>\n",
       "      <td>0</td>\n",
       "      <td>warmUp</td>\n",
       "      <td>194</td>\n",
       "    </tr>\n",
       "    <tr>\n",
       "      <th>3</th>\n",
       "      <td>0.00</td>\n",
       "      <td>0.0</td>\n",
       "      <td>0</td>\n",
       "      <td>warmUp</td>\n",
       "      <td>194</td>\n",
       "    </tr>\n",
       "    <tr>\n",
       "      <th>4</th>\n",
       "      <td>0.25</td>\n",
       "      <td>0.0</td>\n",
       "      <td>0</td>\n",
       "      <td>warmUp</td>\n",
       "      <td>194</td>\n",
       "    </tr>\n",
       "    <tr>\n",
       "      <th>5</th>\n",
       "      <td>3.28</td>\n",
       "      <td>0.0</td>\n",
       "      <td>0</td>\n",
       "      <td>warmUp</td>\n",
       "      <td>194</td>\n",
       "    </tr>\n",
       "    <tr>\n",
       "      <th>6</th>\n",
       "      <td>3.03</td>\n",
       "      <td>0.0</td>\n",
       "      <td>0</td>\n",
       "      <td>warmUp</td>\n",
       "      <td>194</td>\n",
       "    </tr>\n",
       "    <tr>\n",
       "      <th>7</th>\n",
       "      <td>2.03</td>\n",
       "      <td>0.0</td>\n",
       "      <td>0</td>\n",
       "      <td>warmUp</td>\n",
       "      <td>194</td>\n",
       "    </tr>\n",
       "    <tr>\n",
       "      <th>8</th>\n",
       "      <td>1.53</td>\n",
       "      <td>0.0</td>\n",
       "      <td>0</td>\n",
       "      <td>warmUp</td>\n",
       "      <td>194</td>\n",
       "    </tr>\n",
       "    <tr>\n",
       "      <th>9</th>\n",
       "      <td>1.78</td>\n",
       "      <td>0.0</td>\n",
       "      <td>0</td>\n",
       "      <td>warmUp</td>\n",
       "      <td>194</td>\n",
       "    </tr>\n",
       "  </tbody>\n",
       "</table>\n",
       "</div>"
      ],
      "text/plain": [
       "   cpu_avg_user_pct  test_MEAN_responseTime_ms  test_MAX_responseTime_ms  \\\n",
       "0              2.77                        0.0                         0   \n",
       "1              0.25                        0.0                         0   \n",
       "2              0.50                        0.0                         0   \n",
       "3              0.00                        0.0                         0   \n",
       "4              0.25                        0.0                         0   \n",
       "5              3.28                        0.0                         0   \n",
       "6              3.03                        0.0                         0   \n",
       "7              2.03                        0.0                         0   \n",
       "8              1.53                        0.0                         0   \n",
       "9              1.78                        0.0                         0   \n",
       "\n",
       "  test_ScenarioDescription  scn_buildNumber  \n",
       "0                   warmUp              194  \n",
       "1                   warmUp              194  \n",
       "2                   warmUp              194  \n",
       "3                   warmUp              194  \n",
       "4                   warmUp              194  \n",
       "5                   warmUp              194  \n",
       "6                   warmUp              194  \n",
       "7                   warmUp              194  \n",
       "8                   warmUp              194  \n",
       "9                   warmUp              194  "
      ]
     },
     "execution_count": 9,
     "metadata": {},
     "output_type": "execute_result"
    }
   ],
   "source": [
    "filtered_df.head(10)"
   ]
  },
  {
   "cell_type": "code",
   "execution_count": 10,
   "metadata": {},
   "outputs": [
    {
     "data": {
      "text/plain": [
       "array([[<matplotlib.axes._subplots.AxesSubplot object at 0x1a1718f3c8>,\n",
       "        <matplotlib.axes._subplots.AxesSubplot object at 0x1a1853b198>],\n",
       "       [<matplotlib.axes._subplots.AxesSubplot object at 0x1053c3710>,\n",
       "        <matplotlib.axes._subplots.AxesSubplot object at 0x10562cc88>]],\n",
       "      dtype=object)"
      ]
     },
     "execution_count": 10,
     "metadata": {},
     "output_type": "execute_result"
    },
    {
     "data": {
      "image/png": "[encoded data removed]",
      "text/plain": [
       "<Figure size 720x720 with 4 Axes>"
      ]
     },
     "metadata": {
      "needs_background": "light"
     },
     "output_type": "display_data"
    }
   ],
   "source": [
    "#Generar los histogramas para cada uno de los features\n",
    "filtered_df.hist(figsize=(10,10))"
   ]
  },
  {
   "cell_type": "markdown",
   "metadata": {
    "scrolled": true
   },
   "source": [
    "# Analisis iniciales"
   ]
  },
  {
   "cell_type": "code",
   "execution_count": 11,
   "metadata": {},
   "outputs": [
    {
     "name": "stdout",
     "output_type": "stream",
     "text": [
      "El tamaño del dataset es 555585\n",
      "El tamaño del dataset sin nulos es  es 555585\n",
      "El tamaño del dataset sin tiempo calentamiento es  es 507545\n"
     ]
    },
    {
     "data": {
      "text/html": [
       "<div>\n",
       "<style scoped>\n",
       "    .dataframe tbody tr th:only-of-type {\n",
       "        vertical-align: middle;\n",
       "    }\n",
       "\n",
       "    .dataframe tbody tr th {\n",
       "        vertical-align: top;\n",
       "    }\n",
       "\n",
       "    .dataframe thead th {\n",
       "        text-align: right;\n",
       "    }\n",
       "</style>\n",
       "<table border=\"1\" class=\"dataframe\">\n",
       "  <thead>\n",
       "    <tr style=\"text-align: right;\">\n",
       "      <th></th>\n",
       "      <th>cpu_avg_user_pct</th>\n",
       "      <th>test_MEAN_responseTime_ms</th>\n",
       "      <th>test_MAX_responseTime_ms</th>\n",
       "      <th>test_ScenarioDescription</th>\n",
       "      <th>scn_buildNumber</th>\n",
       "    </tr>\n",
       "  </thead>\n",
       "  <tbody>\n",
       "    <tr>\n",
       "      <th>300</th>\n",
       "      <td>2.02</td>\n",
       "      <td>0.0</td>\n",
       "      <td>0</td>\n",
       "      <td>ConsultaNumeroSolicitudesSimulation-userNumber_1</td>\n",
       "      <td>194</td>\n",
       "    </tr>\n",
       "    <tr>\n",
       "      <th>301</th>\n",
       "      <td>2.02</td>\n",
       "      <td>0.0</td>\n",
       "      <td>0</td>\n",
       "      <td>ConsultaNumeroSolicitudesSimulation-userNumber_1</td>\n",
       "      <td>194</td>\n",
       "    </tr>\n",
       "    <tr>\n",
       "      <th>302</th>\n",
       "      <td>1.77</td>\n",
       "      <td>0.0</td>\n",
       "      <td>0</td>\n",
       "      <td>ConsultaNumeroSolicitudesSimulation-userNumber_1</td>\n",
       "      <td>194</td>\n",
       "    </tr>\n",
       "    <tr>\n",
       "      <th>303</th>\n",
       "      <td>1.51</td>\n",
       "      <td>0.0</td>\n",
       "      <td>0</td>\n",
       "      <td>ConsultaNumeroSolicitudesSimulation-userNumber_1</td>\n",
       "      <td>194</td>\n",
       "    </tr>\n",
       "    <tr>\n",
       "      <th>304</th>\n",
       "      <td>2.03</td>\n",
       "      <td>0.0</td>\n",
       "      <td>0</td>\n",
       "      <td>ConsultaNumeroSolicitudesSimulation-userNumber_1</td>\n",
       "      <td>194</td>\n",
       "    </tr>\n",
       "    <tr>\n",
       "      <th>305</th>\n",
       "      <td>2.27</td>\n",
       "      <td>0.0</td>\n",
       "      <td>0</td>\n",
       "      <td>ConsultaNumeroSolicitudesSimulation-userNumber_1</td>\n",
       "      <td>194</td>\n",
       "    </tr>\n",
       "    <tr>\n",
       "      <th>306</th>\n",
       "      <td>1.77</td>\n",
       "      <td>0.0</td>\n",
       "      <td>0</td>\n",
       "      <td>ConsultaNumeroSolicitudesSimulation-userNumber_1</td>\n",
       "      <td>194</td>\n",
       "    </tr>\n",
       "    <tr>\n",
       "      <th>307</th>\n",
       "      <td>1.26</td>\n",
       "      <td>0.0</td>\n",
       "      <td>0</td>\n",
       "      <td>ConsultaNumeroSolicitudesSimulation-userNumber_1</td>\n",
       "      <td>194</td>\n",
       "    </tr>\n",
       "    <tr>\n",
       "      <th>308</th>\n",
       "      <td>2.01</td>\n",
       "      <td>0.0</td>\n",
       "      <td>0</td>\n",
       "      <td>ConsultaNumeroSolicitudesSimulation-userNumber_1</td>\n",
       "      <td>194</td>\n",
       "    </tr>\n",
       "    <tr>\n",
       "      <th>309</th>\n",
       "      <td>1.26</td>\n",
       "      <td>0.0</td>\n",
       "      <td>0</td>\n",
       "      <td>ConsultaNumeroSolicitudesSimulation-userNumber_1</td>\n",
       "      <td>194</td>\n",
       "    </tr>\n",
       "  </tbody>\n",
       "</table>\n",
       "</div>"
      ],
      "text/plain": [
       "     cpu_avg_user_pct  test_MEAN_responseTime_ms  test_MAX_responseTime_ms  \\\n",
       "300              2.02                        0.0                         0   \n",
       "301              2.02                        0.0                         0   \n",
       "302              1.77                        0.0                         0   \n",
       "303              1.51                        0.0                         0   \n",
       "304              2.03                        0.0                         0   \n",
       "305              2.27                        0.0                         0   \n",
       "306              1.77                        0.0                         0   \n",
       "307              1.26                        0.0                         0   \n",
       "308              2.01                        0.0                         0   \n",
       "309              1.26                        0.0                         0   \n",
       "\n",
       "                             test_ScenarioDescription  scn_buildNumber  \n",
       "300  ConsultaNumeroSolicitudesSimulation-userNumber_1              194  \n",
       "301  ConsultaNumeroSolicitudesSimulation-userNumber_1              194  \n",
       "302  ConsultaNumeroSolicitudesSimulation-userNumber_1              194  \n",
       "303  ConsultaNumeroSolicitudesSimulation-userNumber_1              194  \n",
       "304  ConsultaNumeroSolicitudesSimulation-userNumber_1              194  \n",
       "305  ConsultaNumeroSolicitudesSimulation-userNumber_1              194  \n",
       "306  ConsultaNumeroSolicitudesSimulation-userNumber_1              194  \n",
       "307  ConsultaNumeroSolicitudesSimulation-userNumber_1              194  \n",
       "308  ConsultaNumeroSolicitudesSimulation-userNumber_1              194  \n",
       "309  ConsultaNumeroSolicitudesSimulation-userNumber_1              194  "
      ]
     },
     "execution_count": 11,
     "metadata": {},
     "output_type": "execute_result"
    }
   ],
   "source": [
    "#filtrar los valores nulos, los valores 0 y además el tiempo de calentamiento (warmUp)\n",
    "\n",
    "from IPython.core.interactiveshell import InteractiveShell\n",
    "InteractiveShell.ast_node_interactivity = \"all\"\n",
    "\n",
    "print('El tamaño del dataset es {0}'.format(filtered_df.size))\n",
    "print('El tamaño del dataset sin nulos es  es {0}'.format(filtered_df.notnull().size))\n",
    "print('El tamaño del dataset sin tiempo calentamiento es  es {0}'.\n",
    "      format(filtered_df.query(\"test_ScenarioDescription != 'warmUp'\").size))\n",
    "\n",
    "#La muestra  del dataset sin tiempo calentamiento es  es #\n",
    "filtered_df.query(\"test_ScenarioDescription != 'warmUp'\").head(10)"
   ]
  },
  {
   "cell_type": "code",
   "execution_count": 12,
   "metadata": {},
   "outputs": [
    {
     "data": {
      "text/plain": [
       "scn_buildNumber\n",
       "194    57.025199\n",
       "195    62.685749\n",
       "196    54.629997\n",
       "197    56.809121\n",
       "198    51.007218\n",
       "199    54.927012\n",
       "200    52.519649\n",
       "201    57.770247\n",
       "202    58.046570\n",
       "203    50.358673\n",
       "204    57.020895\n",
       "205    51.992549\n",
       "206    51.492164\n",
       "207    49.762092\n",
       "208    56.790573\n",
       "209    53.949383\n",
       "210    49.158071\n",
       "211    57.605948\n",
       "212    44.944206\n",
       "213    59.010711\n",
       "214    49.876117\n",
       "215    57.268879\n",
       "216    59.418409\n",
       "217    55.726740\n",
       "218    59.234020\n",
       "221    48.724025\n",
       "222    61.658905\n",
       "223    54.049740\n",
       "224    51.569186\n",
       "225    55.049221\n",
       "228    47.976086\n",
       "229    54.130474\n",
       "Name: cpu_avg_user_pct, dtype: float64"
      ]
     },
     "execution_count": 12,
     "metadata": {},
     "output_type": "execute_result"
    }
   ],
   "source": [
    "filtered_df.query(\"test_ScenarioDescription != 'warmUp'\").\\\n",
    "   groupby('scn_buildNumber')['cpu_avg_user_pct'].mean()"
   ]
  },
  {
   "cell_type": "code",
   "execution_count": 21,
   "metadata": {},
   "outputs": [
    {
     "data": {
      "text/plain": [
       "<matplotlib.axes._subplots.AxesSubplot at 0x1a19ba2358>"
      ]
     },
     "execution_count": 21,
     "metadata": {},
     "output_type": "execute_result"
    },
    {
     "data": {
      "image/png": "[encoded data removed]",
      "text/plain": [
       "<Figure size 432x288 with 1 Axes>"
      ]
     },
     "metadata": {
      "needs_background": "light"
     },
     "output_type": "display_data"
    }
   ],
   "source": [
    "filtered_df.query(\"test_ScenarioDescription != 'warmUp'\").\\\n",
    "   groupby('scn_buildNumber')['cpu_avg_user_pct'].max().plot(kind='hist')"
   ]
  },
  {
   "cell_type": "code",
   "execution_count": 30,
   "metadata": {},
   "outputs": [
    {
     "name": "stdout",
     "output_type": "stream",
     "text": [
      "El promedio es 49.778226733983104\n",
      "La media es 58.61\n",
      "La moda es 0    0.25\n",
      "dtype: float64\n",
      "La varianza es 1287.3154883130753\n",
      "La desviación estándar es 35.879179036219256\n",
      "La curtosis es -1.5904487841245554\n",
      "La covarianza es\n"
     ]
    },
    {
     "data": {
      "text/html": [
       "<div>\n",
       "<style scoped>\n",
       "    .dataframe tbody tr th:only-of-type {\n",
       "        vertical-align: middle;\n",
       "    }\n",
       "\n",
       "    .dataframe tbody tr th {\n",
       "        vertical-align: top;\n",
       "    }\n",
       "\n",
       "    .dataframe thead th {\n",
       "        text-align: right;\n",
       "    }\n",
       "</style>\n",
       "<table border=\"1\" class=\"dataframe\">\n",
       "  <thead>\n",
       "    <tr style=\"text-align: right;\">\n",
       "      <th></th>\n",
       "      <th>cpu_avg_user_pct</th>\n",
       "      <th>test_MEAN_responseTime_ms</th>\n",
       "      <th>test_MAX_responseTime_ms</th>\n",
       "      <th>scn_buildNumber</th>\n",
       "    </tr>\n",
       "  </thead>\n",
       "  <tbody>\n",
       "    <tr>\n",
       "      <th>cpu_avg_user_pct</th>\n",
       "      <td>1287.315488</td>\n",
       "      <td>4582.616452</td>\n",
       "      <td>1.725882e+04</td>\n",
       "      <td>-6.329878</td>\n",
       "    </tr>\n",
       "    <tr>\n",
       "      <th>test_MEAN_responseTime_ms</th>\n",
       "      <td>4582.616452</td>\n",
       "      <td>49148.929580</td>\n",
       "      <td>1.294411e+05</td>\n",
       "      <td>0.445991</td>\n",
       "    </tr>\n",
       "    <tr>\n",
       "      <th>test_MAX_responseTime_ms</th>\n",
       "      <td>17258.817347</td>\n",
       "      <td>129441.054862</td>\n",
       "      <td>3.934784e+06</td>\n",
       "      <td>-503.195798</td>\n",
       "    </tr>\n",
       "    <tr>\n",
       "      <th>scn_buildNumber</th>\n",
       "      <td>-6.329878</td>\n",
       "      <td>0.445991</td>\n",
       "      <td>-5.031958e+02</td>\n",
       "      <td>101.309090</td>\n",
       "    </tr>\n",
       "  </tbody>\n",
       "</table>\n",
       "</div>"
      ],
      "text/plain": [
       "                           cpu_avg_user_pct  test_MEAN_responseTime_ms  \\\n",
       "cpu_avg_user_pct                1287.315488                4582.616452   \n",
       "test_MEAN_responseTime_ms       4582.616452               49148.929580   \n",
       "test_MAX_responseTime_ms       17258.817347              129441.054862   \n",
       "scn_buildNumber                   -6.329878                   0.445991   \n",
       "\n",
       "                           test_MAX_responseTime_ms  scn_buildNumber  \n",
       "cpu_avg_user_pct                       1.725882e+04        -6.329878  \n",
       "test_MEAN_responseTime_ms              1.294411e+05         0.445991  \n",
       "test_MAX_responseTime_ms               3.934784e+06      -503.195798  \n",
       "scn_buildNumber                       -5.031958e+02       101.309090  "
      ]
     },
     "execution_count": 30,
     "metadata": {},
     "output_type": "execute_result"
    },
    {
     "name": "stdout",
     "output_type": "stream",
     "text": [
      "estadísticas generales sobre un campo específico\n"
     ]
    },
    {
     "data": {
      "text/plain": [
       "count    111117.000000\n",
       "mean         49.778227\n",
       "std          35.879179\n",
       "min           0.000000\n",
       "25%           5.810000\n",
       "50%          58.610000\n",
       "75%          86.970000\n",
       "max          91.460000\n",
       "Name: cpu_avg_user_pct, dtype: float64"
      ]
     },
     "execution_count": 30,
     "metadata": {},
     "output_type": "execute_result"
    }
   ],
   "source": [
    "\n",
    "from IPython.core.interactiveshell import InteractiveShell\n",
    "InteractiveShell.ast_node_interactivity = \"all\"\n",
    "\n",
    "#Calcular el promedio \n",
    "print(\"El promedio es {0}\".format(filtered_df['cpu_avg_user_pct'].mean()))\n",
    "\n",
    "#Calcular la media \n",
    "print(\"La media es {0}\".format(filtered_df['cpu_avg_user_pct'].median()))\n",
    "\n",
    "#Calcular la moda\n",
    "print(\"La moda es {0}\".format(filtered_df['cpu_avg_user_pct'].mode()))\n",
    "\n",
    "#Calcular la varianza\n",
    "print(\"La varianza es {0}\".format(filtered_df['cpu_avg_user_pct'].var()))\n",
    "\n",
    "\n",
    "#Calcular la desviación estándar. \n",
    "print(\"La desviación estándar es {0}\".format(filtered_df['cpu_avg_user_pct'].std()))\n",
    "\n",
    "\n",
    "#Calcular la curtosis. \n",
    "print(\"La curtosis es {0}\".format(filtered_df['cpu_avg_user_pct'].kurt()))\n",
    "\n",
    "print(\"La covarianza es\")\n",
    "filtered_df.cov()\n",
    "\n",
    "#Calcular las estadísticas sobre un campo\n",
    "print(\"estadísticas generales sobre un campo específico\")\n",
    "\n",
    "filtered_df['cpu_avg_user_pct'].describe()\n",
    "\n",
    "\n",
    "\n",
    "## Ahora con numpy para calcular los mismos datos\n",
    "\n",
    "#print(\"EL promedio con np es {0}\".format(np.mean(perf_df['net_avg_txkB_s']))) \n",
    "\n",
    "#print(\"La media con np es {0}\".format(np.median(perf_df['net_avg_txkB_s']))) \n",
    "\n",
    "#print(\"La moda con np es {0}\".format(stats.mode(perf_df['net_avg_txkB_s'])))\n",
    "\n",
    "#"
   ]
  },
  {
   "cell_type": "markdown",
   "metadata": {},
   "source": [
    "### Analisis de cuartiles"
   ]
  },
  {
   "cell_type": "code",
   "execution_count": 34,
   "metadata": {},
   "outputs": [
    {
     "name": "stdout",
     "output_type": "stream",
     "text": [
      "81.16\n"
     ]
    },
    {
     "data": {
      "image/png": "[encoded data removed]",
      "text/plain": [
       "<Figure size 432x288 with 1 Axes>"
      ]
     },
     "metadata": {
      "needs_background": "light"
     },
     "output_type": "display_data"
    }
   ],
   "source": [
    "from IPython.core.interactiveshell import InteractiveShell\n",
    "InteractiveShell.ast_node_interactivity = \"all\"\n",
    "# Rango intercuartil\n",
    "print(filtered_df['cpu_avg_user_pct'].quantile(0.75) - filtered_df['cpu_avg_user_pct'].quantile(0.25) )\n",
    "boxplot = filtered_df.boxplot(column=['cpu_avg_user_pct'])\n"
   ]
  },
  {
   "cell_type": "markdown",
   "metadata": {},
   "source": [
    "### Análisis de correlación "
   ]
  },
  {
   "cell_type": "code",
   "execution_count": 35,
   "metadata": {},
   "outputs": [
    {
     "data": {
      "text/html": [
       "<div>\n",
       "<style scoped>\n",
       "    .dataframe tbody tr th:only-of-type {\n",
       "        vertical-align: middle;\n",
       "    }\n",
       "\n",
       "    .dataframe tbody tr th {\n",
       "        vertical-align: top;\n",
       "    }\n",
       "\n",
       "    .dataframe thead th {\n",
       "        text-align: right;\n",
       "    }\n",
       "</style>\n",
       "<table border=\"1\" class=\"dataframe\">\n",
       "  <thead>\n",
       "    <tr style=\"text-align: right;\">\n",
       "      <th></th>\n",
       "      <th>cpu_avg_user_pct</th>\n",
       "      <th>test_MEAN_responseTime_ms</th>\n",
       "      <th>test_MAX_responseTime_ms</th>\n",
       "      <th>scn_buildNumber</th>\n",
       "    </tr>\n",
       "  </thead>\n",
       "  <tbody>\n",
       "    <tr>\n",
       "      <th>cpu_avg_user_pct</th>\n",
       "      <td>1.000000</td>\n",
       "      <td>0.576121</td>\n",
       "      <td>0.242498</td>\n",
       "      <td>-0.017528</td>\n",
       "    </tr>\n",
       "    <tr>\n",
       "      <th>test_MEAN_responseTime_ms</th>\n",
       "      <td>0.576121</td>\n",
       "      <td>1.000000</td>\n",
       "      <td>0.294344</td>\n",
       "      <td>0.000200</td>\n",
       "    </tr>\n",
       "    <tr>\n",
       "      <th>test_MAX_responseTime_ms</th>\n",
       "      <td>0.242498</td>\n",
       "      <td>0.294344</td>\n",
       "      <td>1.000000</td>\n",
       "      <td>-0.025203</td>\n",
       "    </tr>\n",
       "    <tr>\n",
       "      <th>scn_buildNumber</th>\n",
       "      <td>-0.017528</td>\n",
       "      <td>0.000200</td>\n",
       "      <td>-0.025203</td>\n",
       "      <td>1.000000</td>\n",
       "    </tr>\n",
       "  </tbody>\n",
       "</table>\n",
       "</div>"
      ],
      "text/plain": [
       "                           cpu_avg_user_pct  test_MEAN_responseTime_ms  \\\n",
       "cpu_avg_user_pct                   1.000000                   0.576121   \n",
       "test_MEAN_responseTime_ms          0.576121                   1.000000   \n",
       "test_MAX_responseTime_ms           0.242498                   0.294344   \n",
       "scn_buildNumber                   -0.017528                   0.000200   \n",
       "\n",
       "                           test_MAX_responseTime_ms  scn_buildNumber  \n",
       "cpu_avg_user_pct                           0.242498        -0.017528  \n",
       "test_MEAN_responseTime_ms                  0.294344         0.000200  \n",
       "test_MAX_responseTime_ms                   1.000000        -0.025203  \n",
       "scn_buildNumber                           -0.025203         1.000000  "
      ]
     },
     "execution_count": 35,
     "metadata": {},
     "output_type": "execute_result"
    }
   ],
   "source": [
    "#indice de correlación pearson\n",
    "filtered_df.corr(method='pearson')"
   ]
  },
  {
   "cell_type": "code",
   "execution_count": 37,
   "metadata": {},
   "outputs": [
    {
     "data": {
      "text/html": [
       "<div>\n",
       "<style scoped>\n",
       "    .dataframe tbody tr th:only-of-type {\n",
       "        vertical-align: middle;\n",
       "    }\n",
       "\n",
       "    .dataframe tbody tr th {\n",
       "        vertical-align: top;\n",
       "    }\n",
       "\n",
       "    .dataframe thead th {\n",
       "        text-align: right;\n",
       "    }\n",
       "</style>\n",
       "<table border=\"1\" class=\"dataframe\">\n",
       "  <thead>\n",
       "    <tr style=\"text-align: right;\">\n",
       "      <th></th>\n",
       "      <th>cpu_avg_user_pct</th>\n",
       "      <th>test_MEAN_responseTime_ms</th>\n",
       "      <th>test_MAX_responseTime_ms</th>\n",
       "      <th>scn_buildNumber</th>\n",
       "    </tr>\n",
       "  </thead>\n",
       "  <tbody>\n",
       "    <tr>\n",
       "      <th>cpu_avg_user_pct</th>\n",
       "      <td>1.000000</td>\n",
       "      <td>0.846966</td>\n",
       "      <td>0.569870</td>\n",
       "      <td>-0.022612</td>\n",
       "    </tr>\n",
       "    <tr>\n",
       "      <th>test_MEAN_responseTime_ms</th>\n",
       "      <td>0.846966</td>\n",
       "      <td>1.000000</td>\n",
       "      <td>0.739191</td>\n",
       "      <td>-0.010586</td>\n",
       "    </tr>\n",
       "    <tr>\n",
       "      <th>test_MAX_responseTime_ms</th>\n",
       "      <td>0.569870</td>\n",
       "      <td>0.739191</td>\n",
       "      <td>1.000000</td>\n",
       "      <td>-0.037785</td>\n",
       "    </tr>\n",
       "    <tr>\n",
       "      <th>scn_buildNumber</th>\n",
       "      <td>-0.022612</td>\n",
       "      <td>-0.010586</td>\n",
       "      <td>-0.037785</td>\n",
       "      <td>1.000000</td>\n",
       "    </tr>\n",
       "  </tbody>\n",
       "</table>\n",
       "</div>"
      ],
      "text/plain": [
       "                           cpu_avg_user_pct  test_MEAN_responseTime_ms  \\\n",
       "cpu_avg_user_pct                   1.000000                   0.846966   \n",
       "test_MEAN_responseTime_ms          0.846966                   1.000000   \n",
       "test_MAX_responseTime_ms           0.569870                   0.739191   \n",
       "scn_buildNumber                   -0.022612                  -0.010586   \n",
       "\n",
       "                           test_MAX_responseTime_ms  scn_buildNumber  \n",
       "cpu_avg_user_pct                           0.569870        -0.022612  \n",
       "test_MEAN_responseTime_ms                  0.739191        -0.010586  \n",
       "test_MAX_responseTime_ms                   1.000000        -0.037785  \n",
       "scn_buildNumber                           -0.037785         1.000000  "
      ]
     },
     "execution_count": 37,
     "metadata": {},
     "output_type": "execute_result"
    }
   ],
   "source": [
    "#indice ´ de correlación Spearman\n",
    "filtered_df.corr(method='spearman')"
   ]
  },
  {
   "cell_type": "code",
   "execution_count": 38,
   "metadata": {},
   "outputs": [
    {
     "data": {
      "text/html": [
       "<div>\n",
       "<style scoped>\n",
       "    .dataframe tbody tr th:only-of-type {\n",
       "        vertical-align: middle;\n",
       "    }\n",
       "\n",
       "    .dataframe tbody tr th {\n",
       "        vertical-align: top;\n",
       "    }\n",
       "\n",
       "    .dataframe thead th {\n",
       "        text-align: right;\n",
       "    }\n",
       "</style>\n",
       "<table border=\"1\" class=\"dataframe\">\n",
       "  <thead>\n",
       "    <tr style=\"text-align: right;\">\n",
       "      <th></th>\n",
       "      <th>cpu_avg_user_pct</th>\n",
       "      <th>test_MEAN_responseTime_ms</th>\n",
       "      <th>test_MAX_responseTime_ms</th>\n",
       "      <th>scn_buildNumber</th>\n",
       "    </tr>\n",
       "  </thead>\n",
       "  <tbody>\n",
       "    <tr>\n",
       "      <th>cpu_avg_user_pct</th>\n",
       "      <td>1.000000</td>\n",
       "      <td>0.647325</td>\n",
       "      <td>0.401124</td>\n",
       "      <td>-0.015737</td>\n",
       "    </tr>\n",
       "    <tr>\n",
       "      <th>test_MEAN_responseTime_ms</th>\n",
       "      <td>0.647325</td>\n",
       "      <td>1.000000</td>\n",
       "      <td>0.574932</td>\n",
       "      <td>-0.007502</td>\n",
       "    </tr>\n",
       "    <tr>\n",
       "      <th>test_MAX_responseTime_ms</th>\n",
       "      <td>0.401124</td>\n",
       "      <td>0.574932</td>\n",
       "      <td>1.000000</td>\n",
       "      <td>-0.026237</td>\n",
       "    </tr>\n",
       "    <tr>\n",
       "      <th>scn_buildNumber</th>\n",
       "      <td>-0.015737</td>\n",
       "      <td>-0.007502</td>\n",
       "      <td>-0.026237</td>\n",
       "      <td>1.000000</td>\n",
       "    </tr>\n",
       "  </tbody>\n",
       "</table>\n",
       "</div>"
      ],
      "text/plain": [
       "                           cpu_avg_user_pct  test_MEAN_responseTime_ms  \\\n",
       "cpu_avg_user_pct                   1.000000                   0.647325   \n",
       "test_MEAN_responseTime_ms          0.647325                   1.000000   \n",
       "test_MAX_responseTime_ms           0.401124                   0.574932   \n",
       "scn_buildNumber                   -0.015737                  -0.007502   \n",
       "\n",
       "                           test_MAX_responseTime_ms  scn_buildNumber  \n",
       "cpu_avg_user_pct                           0.401124        -0.015737  \n",
       "test_MEAN_responseTime_ms                  0.574932        -0.007502  \n",
       "test_MAX_responseTime_ms                   1.000000        -0.026237  \n",
       "scn_buildNumber                           -0.026237         1.000000  "
      ]
     },
     "execution_count": 38,
     "metadata": {},
     "output_type": "execute_result"
    }
   ],
   "source": [
    "#indice ´ de correlación kendall\n",
    "filtered_df.corr(method='kendall')"
   ]
  },
  {
   "cell_type": "code",
   "execution_count": 41,
   "metadata": {},
   "outputs": [
    {
     "data": {
      "text/plain": [
       "<matplotlib.axes._subplots.AxesSubplot at 0x1a1bdd92b0>"
      ]
     },
     "execution_count": 41,
     "metadata": {},
     "output_type": "execute_result"
    },
    {
     "data": {
      "image/png": "[encoded data removed]",
      "text/plain": [
       "<Figure size 720x576 with 2 Axes>"
      ]
     },
     "metadata": {
      "needs_background": "light"
     },
     "output_type": "display_data"
    }
   ],
   "source": [
    "#HeadMap Para los valores de correlaciónm del dataframe\n",
    "import matplotlib.pyplot as plt #\n",
    "f, ax = plt.subplots(figsize=(10, 8)) \n",
    "corr = filtered_df.corr() \n",
    "sns.heatmap(corr, mask=np.zeros_like(corr, dtype=np.bool), cmap=sns.diverging_palette(220, 10, as_cmap=True), \n",
    "      square=True, ax=ax) "
   ]
  },
  {
   "cell_type": "markdown",
   "metadata": {},
   "source": [
    "## Analisis de valores irregulares  e intervalos de confianza"
   ]
  },
  {
   "cell_type": "code",
   "execution_count": 43,
   "metadata": {},
   "outputs": [
    {
     "data": {
      "text/plain": [
       "<matplotlib.axes._subplots.AxesSubplot at 0x1a1b231320>"
      ]
     },
     "execution_count": 43,
     "metadata": {},
     "output_type": "execute_result"
    },
    {
     "data": {
      "image/png": "[encoded data removed]",
      "text/plain": [
       "<Figure size 432x288 with 1 Axes>"
      ]
     },
     "metadata": {
      "needs_background": "light"
     },
     "output_type": "display_data"
    }
   ],
   "source": [
    "import seaborn as sns\n",
    "\n",
    "perf_df.boxplot(column=['test_max_virtualUsers'], grid=False)"
   ]
  },
  {
   "cell_type": "code",
   "execution_count": 44,
   "metadata": {},
   "outputs": [
    {
     "data": {
      "text/plain": [
       "<matplotlib.axes._subplots.AxesSubplot at 0x1a1b5fe9b0>"
      ]
     },
     "execution_count": 44,
     "metadata": {},
     "output_type": "execute_result"
    },
    {
     "data": {
      "image/png": "[encoded data removed]",
      "text/plain": [
       "<Figure size 432x288 with 1 Axes>"
      ]
     },
     "metadata": {
      "needs_background": "light"
     },
     "output_type": "display_data"
    }
   ],
   "source": [
    "perf_df.boxplot(column=['cpu_avg_user_pct'], grid=False)"
   ]
  },
  {
   "cell_type": "code",
   "execution_count": 45,
   "metadata": {},
   "outputs": [
    {
     "data": {
      "text/plain": [
       "<matplotlib.axes._subplots.AxesSubplot at 0x1a1bf335c0>"
      ]
     },
     "execution_count": 45,
     "metadata": {},
     "output_type": "execute_result"
    },
    {
     "data": {
      "image/png": "[encoded data removed]",
      "text/plain": [
       "<Figure size 432x288 with 1 Axes>"
      ]
     },
     "metadata": {
      "needs_background": "light"
     },
     "output_type": "display_data"
    }
   ],
   "source": [
    "from seaborn import boxplot\n",
    "boxplot(perf_df.test_max_virtualUsers)"
   ]
  },
  {
   "cell_type": "code",
   "execution_count": 46,
   "metadata": {},
   "outputs": [
    {
     "data": {
      "text/plain": [
       "<matplotlib.axes._subplots.AxesSubplot at 0x1a1c41ee10>"
      ]
     },
     "execution_count": 46,
     "metadata": {},
     "output_type": "execute_result"
    },
    {
     "data": {
      "image/png": "[encoded data removed]",
      "text/plain": [
       "<Figure size 432x288 with 1 Axes>"
      ]
     },
     "metadata": {
      "needs_background": "light"
     },
     "output_type": "display_data"
    }
   ],
   "source": [
    "from seaborn import boxplot\n",
    "boxplot(perf_df.cpu_avg_user_pct)"
   ]
  },
  {
   "cell_type": "code",
   "execution_count": 48,
   "metadata": {},
   "outputs": [
    {
     "data": {
      "text/plain": [
       "<matplotlib.collections.PathCollection at 0x1a1b2466a0>"
      ]
     },
     "execution_count": 48,
     "metadata": {},
     "output_type": "execute_result"
    },
    {
     "data": {
      "text/plain": [
       "Text(0.5, 0, 'Session user on the system')"
      ]
     },
     "execution_count": 48,
     "metadata": {},
     "output_type": "execute_result"
    },
    {
     "data": {
      "text/plain": [
       "Text(0, 0.5, '%CPU use')"
      ]
     },
     "execution_count": 48,
     "metadata": {},
     "output_type": "execute_result"
    },
    {
     "data": {
      "image/png": "[encoded data removed]",
      "text/plain": [
       "<Figure size 1152x576 with 1 Axes>"
      ]
     },
     "metadata": {
      "needs_background": "light"
     },
     "output_type": "display_data"
    }
   ],
   "source": [
    "import matplotlib.pyplot as plt # importando matplotlib\n",
    "fig, ax = plt.subplots(figsize=(16,8))\n",
    "ax.scatter(perf_df['test_max_virtualUsers'], perf_df['cpu_avg_user_pct'])\n",
    "ax.set_xlabel('Session user on the system')\n",
    "ax.set_ylabel('%CPU use')\n",
    "plt.show()"
   ]
  },
  {
   "cell_type": "code",
   "execution_count": 50,
   "metadata": {},
   "outputs": [
    {
     "data": {
      "text/plain": [
       "<seaborn.axisgrid.FacetGrid at 0x1a1d7f47b8>"
      ]
     },
     "execution_count": 50,
     "metadata": {},
     "output_type": "execute_result"
    },
    {
     "data": {
      "image/png": "[encoded data removed]",
      "text/plain": [
       "<Figure size 360x360 with 1 Axes>"
      ]
     },
     "metadata": {
      "needs_background": "light"
     },
     "output_type": "display_data"
    }
   ],
   "source": [
    "from seaborn import lmplot\n",
    "lmplot('test_max_virtualUsers', 'cpu_avg_user_pct', data=perf_df, fit_reg=False,  ci=95)\n",
    "\n"
   ]
  },
  {
   "cell_type": "code",
   "execution_count": 49,
   "metadata": {},
   "outputs": [
    {
     "data": {
      "text/plain": [
       "(376.67521672667317, 380.86404369252466)"
      ]
     },
     "execution_count": 49,
     "metadata": {},
     "output_type": "execute_result"
    }
   ],
   "source": [
    "import numpy as np, scipy.stats as st\n",
    "\n",
    "st.t.interval(0.95, len(perf_df['test_max_virtualUsers'])-1, loc=np.mean(perf_df['test_max_virtualUsers']), scale=st.sem(perf_df['test_max_virtualUsers']))\n"
   ]
  },
  {
   "cell_type": "code",
   "execution_count": 51,
   "metadata": {},
   "outputs": [
    {
     "data": {
      "text/plain": [
       "<matplotlib.axes._subplots.AxesSubplot at 0x1a1d7f46d8>"
      ]
     },
     "execution_count": 51,
     "metadata": {},
     "output_type": "execute_result"
    },
    {
     "data": {
      "image/png": "[encoded data removed]",
      "text/plain": [
       "<Figure size 432x288 with 1 Axes>"
      ]
     },
     "metadata": {
      "needs_background": "light"
     },
     "output_type": "display_data"
    }
   ],
   "source": [
    "from seaborn import distplot\n",
    "distplot(perf_df.test_max_virtualUsers)\n"
   ]
  },
  {
   "cell_type": "code",
   "execution_count": 56,
   "metadata": {},
   "outputs": [
    {
     "data": {
      "text/plain": [
       "<matplotlib.axes._subplots.AxesSubplot at 0x1a1919c320>"
      ]
     },
     "execution_count": 56,
     "metadata": {},
     "output_type": "execute_result"
    },
    {
     "data": {
      "image/png": "[encoded data removed]",
      "text/plain": [
       "<Figure size 914.4x739.44 with 1 Axes>"
      ]
     },
     "metadata": {},
     "output_type": "display_data"
    }
   ],
   "source": [
    "### graficar los intervalos de confianza\n",
    "\n",
    "from seaborn import regplot\n",
    "sns.set(rc={'figure.figsize':(12.7,10.27)})\n",
    "regplot(y=perf_df['test_max_virtualUsers'], x=perf_df['scn_buildNumber'], color=\"g\", ci=95,x_bins=10)"
   ]
  }
 ],
 "metadata": {
  "kernelspec": {
   "display_name": "Python 3",
   "language": "python",
   "name": "python3"
  },
  "language_info": {
   "codemirror_mode": {
    "name": "ipython",
    "version": 3
   },
   "file_extension": ".py",
   "mimetype": "text/x-python",
   "name": "python",
   "nbconvert_exporter": "python",
   "pygments_lexer": "ipython3",
   "version": "3.7.3"
  }
 },
 "nbformat": 4,
 "nbformat_minor": 2
}
